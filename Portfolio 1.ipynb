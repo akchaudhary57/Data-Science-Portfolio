{
 "cells": [
  {
   "cell_type": "code",
   "execution_count": 4,
   "metadata": {},
   "outputs": [],
   "source": [
    "# importing libraries\n",
    "import pandas as pd\n",
    "import pandas.util.testing as tm\n",
    "import numpy as np\n",
    "from matplotlib import pyplot as plt\n",
    "from datetime import timedelta\n",
    "plt.style.use('seaborn')\n",
    "%matplotlib inline\n",
    "import datetime\n",
    "from datetime import datetime\n",
    "import statistics as st\n",
    "import scipy\n",
    "from pylab import rcParams\n",
    "import seaborn as sb\n",
    "from scipy.stats.stats import pearsonr\n",
    "rcParams['figure.figsize'] = 10,9\n",
    "sb.set_style('whitegrid')\n",
    "from scipy.stats import ttest_ind\n",
    "pd.set_option('mode.chained_assignment', None)\n"
   ]
  },
  {
   "cell_type": "markdown",
   "metadata": {},
   "source": [
    "# Analysis of Cycling Data\n",
    "\n",
    "## Loading Data\n",
    "\n",
    "The first dataset is an export of my ride data from [Strava](https://strava.com/), an online social \n",
    "network site for cycling and other sports.  This data is a log of every ride since the start of 2018\n",
    "and contains summary data like the distance and average speed.  It was exported using \n",
    "the script `scripts/stravaget.py` which uses the stravalib module to read data. Some details of\n",
    "the fields exported by that script can be seen in [the documentation for stravalib](https://pythonhosted.org/stravalib/api.html#stravalib.model.Activity). \n",
    "\n",
    "The exported data is a CSV file so that's easy to read, however the date information in the file is \n",
    "recorded in a different timezone (UTC) so we need to do a bit of conversion.  In reading the data I'm\n",
    "setting the index of the data frame to be the datetime of the ride. "
   ]
  },
  {
   "cell_type": "code",
   "execution_count": 5,
   "metadata": {},
   "outputs": [
    {
     "data": {
      "text/html": [
       "<div>\n",
       "<style scoped>\n",
       "    .dataframe tbody tr th:only-of-type {\n",
       "        vertical-align: middle;\n",
       "    }\n",
       "\n",
       "    .dataframe tbody tr th {\n",
       "        vertical-align: top;\n",
       "    }\n",
       "\n",
       "    .dataframe thead th {\n",
       "        text-align: right;\n",
       "    }\n",
       "</style>\n",
       "<table border=\"1\" class=\"dataframe\">\n",
       "  <thead>\n",
       "    <tr style=\"text-align: right;\">\n",
       "      <th></th>\n",
       "      <th>average_heartrate</th>\n",
       "      <th>average_temp</th>\n",
       "      <th>average_watts</th>\n",
       "      <th>device_watts</th>\n",
       "      <th>distance</th>\n",
       "      <th>elapsed_time</th>\n",
       "      <th>elevation_gain</th>\n",
       "      <th>kudos</th>\n",
       "      <th>moving_time</th>\n",
       "      <th>workout_type</th>\n",
       "    </tr>\n",
       "    <tr>\n",
       "      <th>date</th>\n",
       "      <th></th>\n",
       "      <th></th>\n",
       "      <th></th>\n",
       "      <th></th>\n",
       "      <th></th>\n",
       "      <th></th>\n",
       "      <th></th>\n",
       "      <th></th>\n",
       "      <th></th>\n",
       "      <th></th>\n",
       "    </tr>\n",
       "  </thead>\n",
       "  <tbody>\n",
       "    <tr>\n",
       "      <th>2018-01-02 20:47:51+00:00</th>\n",
       "      <td>100.6</td>\n",
       "      <td>21.0</td>\n",
       "      <td>73.8</td>\n",
       "      <td>False</td>\n",
       "      <td>15.2</td>\n",
       "      <td>94</td>\n",
       "      <td>316.00 m</td>\n",
       "      <td>10</td>\n",
       "      <td>73</td>\n",
       "      <td>Ride</td>\n",
       "    </tr>\n",
       "    <tr>\n",
       "      <th>2018-01-04 01:36:53+00:00</th>\n",
       "      <td>NaN</td>\n",
       "      <td>24.0</td>\n",
       "      <td>131.7</td>\n",
       "      <td>False</td>\n",
       "      <td>18.0</td>\n",
       "      <td>52</td>\n",
       "      <td>236.00 m</td>\n",
       "      <td>5</td>\n",
       "      <td>46</td>\n",
       "      <td>Ride</td>\n",
       "    </tr>\n",
       "    <tr>\n",
       "      <th>2018-01-04 02:56:00+00:00</th>\n",
       "      <td>83.1</td>\n",
       "      <td>25.0</td>\n",
       "      <td>13.8</td>\n",
       "      <td>False</td>\n",
       "      <td>0.0</td>\n",
       "      <td>3</td>\n",
       "      <td>0.00 m</td>\n",
       "      <td>2</td>\n",
       "      <td>2</td>\n",
       "      <td>Ride</td>\n",
       "    </tr>\n",
       "    <tr>\n",
       "      <th>2018-01-04 05:37:04+00:00</th>\n",
       "      <td>110.1</td>\n",
       "      <td>24.0</td>\n",
       "      <td>113.6</td>\n",
       "      <td>False</td>\n",
       "      <td>22.9</td>\n",
       "      <td>77</td>\n",
       "      <td>246.00 m</td>\n",
       "      <td>8</td>\n",
       "      <td>64</td>\n",
       "      <td>Ride</td>\n",
       "    </tr>\n",
       "    <tr>\n",
       "      <th>2018-01-05 19:22:46+00:00</th>\n",
       "      <td>110.9</td>\n",
       "      <td>20.0</td>\n",
       "      <td>147.7</td>\n",
       "      <td>True</td>\n",
       "      <td>58.4</td>\n",
       "      <td>189</td>\n",
       "      <td>676.00 m</td>\n",
       "      <td>12</td>\n",
       "      <td>144</td>\n",
       "      <td>Ride</td>\n",
       "    </tr>\n",
       "    <tr>\n",
       "      <th>...</th>\n",
       "      <td>...</td>\n",
       "      <td>...</td>\n",
       "      <td>...</td>\n",
       "      <td>...</td>\n",
       "      <td>...</td>\n",
       "      <td>...</td>\n",
       "      <td>...</td>\n",
       "      <td>...</td>\n",
       "      <td>...</td>\n",
       "      <td>...</td>\n",
       "    </tr>\n",
       "    <tr>\n",
       "      <th>2019-07-19 20:22:49+00:00</th>\n",
       "      <td>NaN</td>\n",
       "      <td>3.0</td>\n",
       "      <td>166.8</td>\n",
       "      <td>True</td>\n",
       "      <td>58.2</td>\n",
       "      <td>174</td>\n",
       "      <td>666.00 m</td>\n",
       "      <td>16</td>\n",
       "      <td>136</td>\n",
       "      <td>Ride</td>\n",
       "    </tr>\n",
       "    <tr>\n",
       "      <th>2019-07-26 20:12:56+00:00</th>\n",
       "      <td>120.8</td>\n",
       "      <td>7.0</td>\n",
       "      <td>166.9</td>\n",
       "      <td>True</td>\n",
       "      <td>59.6</td>\n",
       "      <td>185</td>\n",
       "      <td>663.00 m</td>\n",
       "      <td>15</td>\n",
       "      <td>139</td>\n",
       "      <td>Ride</td>\n",
       "    </tr>\n",
       "    <tr>\n",
       "      <th>2019-07-27 20:42:59+00:00</th>\n",
       "      <td>122.0</td>\n",
       "      <td>3.0</td>\n",
       "      <td>168.4</td>\n",
       "      <td>True</td>\n",
       "      <td>19.8</td>\n",
       "      <td>49</td>\n",
       "      <td>247.00 m</td>\n",
       "      <td>6</td>\n",
       "      <td>47</td>\n",
       "      <td>Ride</td>\n",
       "    </tr>\n",
       "    <tr>\n",
       "      <th>2019-07-27 21:47:24+00:00</th>\n",
       "      <td>144.4</td>\n",
       "      <td>3.0</td>\n",
       "      <td>235.2</td>\n",
       "      <td>True</td>\n",
       "      <td>29.1</td>\n",
       "      <td>50</td>\n",
       "      <td>415.00 m</td>\n",
       "      <td>15</td>\n",
       "      <td>50</td>\n",
       "      <td>Race</td>\n",
       "    </tr>\n",
       "    <tr>\n",
       "      <th>2019-07-27 23:55:13+00:00</th>\n",
       "      <td>109.6</td>\n",
       "      <td>15.0</td>\n",
       "      <td>114.7</td>\n",
       "      <td>True</td>\n",
       "      <td>20.2</td>\n",
       "      <td>68</td>\n",
       "      <td>280.00 m</td>\n",
       "      <td>6</td>\n",
       "      <td>59</td>\n",
       "      <td>Ride</td>\n",
       "    </tr>\n",
       "  </tbody>\n",
       "</table>\n",
       "<p>268 rows × 10 columns</p>\n",
       "</div>"
      ],
      "text/plain": [
       "                           average_heartrate  average_temp  average_watts  \\\n",
       "date                                                                        \n",
       "2018-01-02 20:47:51+00:00              100.6          21.0           73.8   \n",
       "2018-01-04 01:36:53+00:00                NaN          24.0          131.7   \n",
       "2018-01-04 02:56:00+00:00               83.1          25.0           13.8   \n",
       "2018-01-04 05:37:04+00:00              110.1          24.0          113.6   \n",
       "2018-01-05 19:22:46+00:00              110.9          20.0          147.7   \n",
       "...                                      ...           ...            ...   \n",
       "2019-07-19 20:22:49+00:00                NaN           3.0          166.8   \n",
       "2019-07-26 20:12:56+00:00              120.8           7.0          166.9   \n",
       "2019-07-27 20:42:59+00:00              122.0           3.0          168.4   \n",
       "2019-07-27 21:47:24+00:00              144.4           3.0          235.2   \n",
       "2019-07-27 23:55:13+00:00              109.6          15.0          114.7   \n",
       "\n",
       "                          device_watts  distance  elapsed_time elevation_gain  \\\n",
       "date                                                                            \n",
       "2018-01-02 20:47:51+00:00        False      15.2            94       316.00 m   \n",
       "2018-01-04 01:36:53+00:00        False      18.0            52       236.00 m   \n",
       "2018-01-04 02:56:00+00:00        False       0.0             3         0.00 m   \n",
       "2018-01-04 05:37:04+00:00        False      22.9            77       246.00 m   \n",
       "2018-01-05 19:22:46+00:00         True      58.4           189       676.00 m   \n",
       "...                                ...       ...           ...            ...   \n",
       "2019-07-19 20:22:49+00:00         True      58.2           174       666.00 m   \n",
       "2019-07-26 20:12:56+00:00         True      59.6           185       663.00 m   \n",
       "2019-07-27 20:42:59+00:00         True      19.8            49       247.00 m   \n",
       "2019-07-27 21:47:24+00:00         True      29.1            50       415.00 m   \n",
       "2019-07-27 23:55:13+00:00         True      20.2            68       280.00 m   \n",
       "\n",
       "                           kudos  moving_time workout_type  \n",
       "date                                                        \n",
       "2018-01-02 20:47:51+00:00     10           73         Ride  \n",
       "2018-01-04 01:36:53+00:00      5           46         Ride  \n",
       "2018-01-04 02:56:00+00:00      2            2         Ride  \n",
       "2018-01-04 05:37:04+00:00      8           64         Ride  \n",
       "2018-01-05 19:22:46+00:00     12          144         Ride  \n",
       "...                          ...          ...          ...  \n",
       "2019-07-19 20:22:49+00:00     16          136         Ride  \n",
       "2019-07-26 20:12:56+00:00     15          139         Ride  \n",
       "2019-07-27 20:42:59+00:00      6           47         Ride  \n",
       "2019-07-27 21:47:24+00:00     15           50         Race  \n",
       "2019-07-27 23:55:13+00:00      6           59         Ride  \n",
       "\n",
       "[268 rows x 10 columns]"
      ]
     },
     "execution_count": 5,
     "metadata": {},
     "output_type": "execute_result"
    }
   ],
   "source": [
    "strava = pd.read_csv('data/Portfolio1/strava_export.csv',index_col='date',parse_dates = True)\n",
    "strava.sort_index()\n"
   ]
  },
  {
   "cell_type": "markdown",
   "metadata": {},
   "source": [
    "The second dataset comes from an application called [GoldenCheetah](https://www.goldencheetah.org/) which provides\n",
    "some analytics services over ride data.  This has some of the same fields but adds a lot of analysis of the \n",
    "power, speed and heart rate data in each ride.  This data overlaps with the Strava data but doesn't include all \n",
    "of the same rides. \n",
    "\n",
    "Again we create an index using the datetime for each ride, this time combining two columns in the data (date and time) \n",
    "and localising to Sydney so that the times match those for the Strava data. "
   ]
  },
  {
   "cell_type": "code",
   "execution_count": 8,
   "metadata": {
    "scrolled": true
   },
   "outputs": [],
   "source": [
    "cheetah = pd.read_csv('data/Portfolio1/cheetah.csv', skipinitialspace=True)\n",
    "cheetah.index = pd.to_datetime(cheetah['date'] + ' ' + cheetah['time'])\n",
    "cheetah.index = cheetah.index.tz_localize('Australia/Sydney')"
   ]
  },
  {
   "cell_type": "markdown",
   "metadata": {},
   "source": [
    "The GoldenCheetah data contains many many variables (columns) and I won't go into all of them here. Some\n",
    "that are of particular interest for the analysis below are:\n",
    "\n",
    "Here are definitions of some of the more important fields in the data. Capitalised fields come from the GoldenCheetah data\n",
    "while lowercase_fields come from Strava. There are many cases where fields are duplicated and in this case the values\n",
    "should be the same, although there is room for variation as the algorithm used to calculate them could be different\n",
    "in each case. \n",
    "\n",
    "  * Duration - overall duration of the ride, should be same as elapsed_time\n",
    "  * Time Moving - time spent moving (not resting or waiting at lights), should be the same as moving_time\n",
    "  * Elevation Gain - metres climbed over the ride\n",
    "  * Average Speed - over the ride\n",
    "  * Average Power - average power in watts as measured by a power meter, relates to how much effort is being put in to the ride, should be the same as  * average_watts' from Strava\n",
    "  * Nonzero Average Power - same as Average Power but excludes times when power is zero from the average\n",
    "  * Average Heart Rate - should be the same as average_heartrate\n",
    "  * Average Cadence - cadence is the rotations per minute of the pedals\n",
    "  * Average Temp - temperature in the environment as measured by the bike computer (should be same as average_temp)\n",
    "  * VAM - average ascent speed - speed up hills\n",
    "  * Calories (HR) - Calorie expendature as estimated from heart rate data\n",
    "  * 1 sec Peak Power - this and other  'Peak Power' measures give the maximum power output in the ride over this time period.  Will be higher for shorter periods. High values in short periods would come from a very 'punchy' ride with sprints for example.\n",
    "  * 1 min Peak Hr - a similar measure relating to Heart Rate\n",
    "  * NP - Normalised Power, a smoothed average power measurement, generally higher than Average Power \n",
    "  * TSS - Training Stress Score, a measure of how hard a ride this was\n",
    "  * device_watts - True if the power (watts) measures were from a power meter, False if they were estimated\n",
    "  * distance - distance travelled in Km\n",
    "  * kudos - likes from other Strava users (social network)\n",
    "  * workout_type - one of  'Race',  'Workout' or  'Ride'\n",
    "  \n",
    "  \n",
    "Some of the GoldenCheetah parameters are defined [in thier documentation](https://github.com/GoldenCheetah/GoldenCheetah/wiki/UG_Glossary).  "
   ]
  },
  {
   "cell_type": "markdown",
   "metadata": {},
   "source": [
    "\n",
    "__The first task is to combine these two data frames using the [`join` method of Pandas](https://pandas.pydata.org/pandas-docs/stable/user_guide/merging.html#joining-on-index).   The goal is to keep only those rows of data \n",
    "that appear in both data frames so that we have complete data for every row.__"
   ]
  },
  {
   "cell_type": "markdown",
   "metadata": {},
   "source": [
    "* Since the strava timezone is in different format, I am parsing the date field of strava to Australian local time using lambda function."
   ]
  },
  {
   "cell_type": "code",
   "execution_count": 9,
   "metadata": {
    "scrolled": false
   },
   "outputs": [],
   "source": [
    "strava = pd.read_csv('data/Portfolio1/strava_export.csv',parse_dates=[3],date_parser=lambda x: pd.Timestamp(x,  tz= 'Australia/Sydney'))"
   ]
  },
  {
   "cell_type": "markdown",
   "metadata": {},
   "source": [
    "* I need to use an inner join operation to retain matched data between Cheetah and Strava data set."
   ]
  },
  {
   "cell_type": "code",
   "execution_count": 21,
   "metadata": {},
   "outputs": [],
   "source": [
    "Merge_Strava_Cheetah = strava.join(cheetah, how= 'inner',on='date' , rsuffix= True )"
   ]
  },
  {
   "cell_type": "markdown",
   "metadata": {},
   "source": [
    "* I am retaining one copy of data set so that I can validate the data if there is any filter applied."
   ]
  },
  {
   "cell_type": "code",
   "execution_count": 20,
   "metadata": {},
   "outputs": [],
   "source": [
    "merge_Strava_Cheetah_copy = strava.join(cheetah, how= 'inner',on='date' , rsuffix= True )"
   ]
  },
  {
   "cell_type": "markdown",
   "metadata": {},
   "source": [
    "__Question 1. Remove rides with no measured power (where device_watts is False) - these are commutes or MTB rides__"
   ]
  },
  {
   "cell_type": "markdown",
   "metadata": {},
   "source": [
    "* Storing the result of both device_watts as false and workout_type as 'Ride' in a field."
   ]
  },
  {
   "cell_type": "code",
   "execution_count": 22,
   "metadata": {},
   "outputs": [],
   "source": [
    "Device_Watts_False = Merge_Strava_Cheetah[Merge_Strava_Cheetah.device_watts == 0]\n",
    "Device_Watts_False_With_Ride = Device_Watts_False[Device_Watts_False.workout_type == 'Ride']"
   ]
  },
  {
   "cell_type": "markdown",
   "metadata": {},
   "source": [
    "* Storing the result in an index and applying drop logic."
   ]
  },
  {
   "cell_type": "code",
   "execution_count": 23,
   "metadata": {},
   "outputs": [],
   "source": [
    "idx = Device_Watts_False[Device_Watts_False.workout_type == 'Ride'].index \n",
    "Merge_Strava_Cheetah.drop(idx,inplace = True)"
   ]
  },
  {
   "cell_type": "markdown",
   "metadata": {},
   "source": [
    "* Applying assert function to validate whether the drop operation worked or not."
   ]
  },
  {
   "cell_type": "code",
   "execution_count": 24,
   "metadata": {},
   "outputs": [],
   "source": [
    "assert len(merge_Strava_Cheetah_copy) - len(Merge_Strava_Cheetah) == len(Device_Watts_False_With_Ride), \"Drop didn't work\""
   ]
  },
  {
   "cell_type": "markdown",
   "metadata": {},
   "source": [
    "__2. Look at the distributions of some key variables: time, distance, average speed, average power, TSS. Are they normally distributed? Skewed?__"
   ]
  },
  {
   "cell_type": "markdown",
   "metadata": {},
   "source": [
    "* Plotting a histogram to check whether moving_time variable is normally distributed or not. "
   ]
  },
  {
   "cell_type": "code",
   "execution_count": 25,
   "metadata": {},
   "outputs": [
    {
     "data": {
      "image/png": "[encoded data removed]",
      "text/plain": [
       "<Figure size 432x288 with 1 Axes>"
      ]
     },
     "metadata": {
      "needs_background": "light"
     },
     "output_type": "display_data"
    },
    {
     "name": "stdout",
     "output_type": "stream",
     "text": [
      "82.67924528301887\n"
     ]
    }
   ],
   "source": [
    "mean = Merge_Strava_Cheetah['moving_time'].mean()\n",
    "std = Merge_Strava_Cheetah['moving_time'].std()\n",
    "count = Merge_Strava_Cheetah['moving_time'].size\n",
    "plt.title('Histogram of Moving time')\n",
    "counts = np.random.normal(mean,std,count)\n",
    "plt.hist(counts,bins =40)\n",
    "plt.show()\n",
    "print(mean)"
   ]
  },
  {
   "cell_type": "markdown",
   "metadata": {},
   "source": [
    "__Interpretation:-__ Plotting the histogram based on mean, standard deviation and count of moving_time field. The mean is 82.67. The graph looks normally distributed with gaps between -50 to 0 and beyond 200."
   ]
  },
  {
   "cell_type": "code",
   "execution_count": 32,
   "metadata": {},
   "outputs": [
    {
     "name": "stdout",
     "output_type": "stream",
     "text": [
      "34.676841981132085\n"
     ]
    },
    {
     "data": {
      "image/png": "[encoded data removed]",
      "text/plain": [
       "<Figure size 432x288 with 1 Axes>"
      ]
     },
     "metadata": {
      "needs_background": "light"
     },
     "output_type": "display_data"
    }
   ],
   "source": [
    "mean = Merge_Strava_Cheetah['Distance'].mean()\n",
    "std = Merge_Strava_Cheetah['Distance'].std()\n",
    "count = Merge_Strava_Cheetah['Distance'].size\n",
    "print(mean)\n",
    "plt.title('Histogram of Distance')\n",
    "counts = np.random.normal(mean,std,count)\n",
    "plt.hist(counts,bins =40)\n",
    "plt.show()"
   ]
  },
  {
   "cell_type": "markdown",
   "metadata": {},
   "source": [
    "__Interpretation:-__ Plotting the histogram based on mean, standard deviation and count of moving_time field. The mean is 34.67. Since the tail is inclined on the left side, the graph is left skewed."
   ]
  },
  {
   "cell_type": "code",
   "execution_count": 38,
   "metadata": {},
   "outputs": [
    {
     "name": "stdout",
     "output_type": "stream",
     "text": [
      "25.12897849056604\n"
     ]
    },
    {
     "data": {
      "image/png": "[encoded data removed]",
      "text/plain": [
       "<Figure size 432x288 with 1 Axes>"
      ]
     },
     "metadata": {
      "needs_background": "light"
     },
     "output_type": "display_data"
    }
   ],
   "source": [
    "mean = Merge_Strava_Cheetah['Average Speed'].mean()\n",
    "std = Merge_Strava_Cheetah['Average Speed'].std()\n",
    "count = Merge_Strava_Cheetah['Average Speed'].size\n",
    "print(mean)\n",
    "plt.title('Histogram of Average Speed')\n",
    "counts = np.random.normal(mean,std,count)\n",
    "plt.hist(counts,bins =40)\n",
    "plt.show()"
   ]
  },
  {
   "cell_type": "markdown",
   "metadata": {},
   "source": [
    "__Interpretation:-__ Plotting the histogram based on mean, standard deviation and count of moving_time field. The mean is 25.12. The graph approximately looks like a symmetric distribution. Therefore, we can say that the graph is normally distributed."
   ]
  },
  {
   "cell_type": "code",
   "execution_count": 14,
   "metadata": {},
   "outputs": [
    {
     "name": "stdout",
     "output_type": "stream",
     "text": [
      "160.08522169811323\n"
     ]
    },
    {
     "data": {
      "image/png": "[encoded data removed]",
      "text/plain": [
       "<Figure size 432x288 with 1 Axes>"
      ]
     },
     "metadata": {
      "needs_background": "light"
     },
     "output_type": "display_data"
    }
   ],
   "source": [
    "mean = Merge_Strava_Cheetah['Average Power'].mean()\n",
    "std = Merge_Strava_Cheetah['Average Power'].std()\n",
    "count = Merge_Strava_Cheetah['Average Power'].size\n",
    "print(mean)\n",
    "plt.title('Histogram of Average Power')\n",
    "counts = np.random.normal(mean,std,count)\n",
    "plt.hist(counts,bins =40)\n",
    "plt.show()"
   ]
  },
  {
   "cell_type": "markdown",
   "metadata": {},
   "source": [
    "__Interpretation:-__ Plotting the histogram based on mean, standard deviation and count of moving_time field. The mean is 160.08. Since the tail is inclined on the left side, the graph is left skewed."
   ]
  },
  {
   "cell_type": "code",
   "execution_count": 15,
   "metadata": {},
   "outputs": [
    {
     "name": "stdout",
     "output_type": "stream",
     "text": [
      "97.21823254716979\n"
     ]
    },
    {
     "data": {
      "image/png": "[encoded data removed]",
      "text/plain": [
       "<Figure size 432x288 with 1 Axes>"
      ]
     },
     "metadata": {
      "needs_background": "light"
     },
     "output_type": "display_data"
    }
   ],
   "source": [
    "mean = Merge_Strava_Cheetah['TSS'].mean()\n",
    "std = Merge_Strava_Cheetah['TSS'].std()\n",
    "count = Merge_Strava_Cheetah['TSS'].size\n",
    "print(mean)\n",
    "plt.title('Histogram of TSS')\n",
    "counts = np.random.normal(mean,std,count)\n",
    "plt.hist(counts,bins =40)\n",
    "plt.show()"
   ]
  },
  {
   "cell_type": "markdown",
   "metadata": {},
   "source": [
    "__Interpretation:-__ Plotting the histogram based on mean, standard deviation and count of moving_time field. The mean is 97.21. Since the tail is inclined on the left side, the graph is left skewed."
   ]
  },
  {
   "cell_type": "markdown",
   "metadata": {},
   "source": [
    "__3. Explore the relationships between the following variables. Are any of them corrolated with each other (do they vary together in a predictable way)? Can you explain any relationships you observe?__\n",
    "    * Distance\n",
    "    * Moving Time\n",
    "    * Average Speed\n",
    "    * Heart Rate\n",
    "    * Power (watts)\n",
    "    * Normalised power (NP)\n",
    "    * Training Stress Score\n",
    "    * Elevation Gain"
   ]
  },
  {
   "cell_type": "markdown",
   "metadata": {},
   "source": [
    "* __Step1:-__ Creating a new datafame that contains specific fields from the large set of data columns."
   ]
  },
  {
   "cell_type": "code",
   "execution_count": 40,
   "metadata": {},
   "outputs": [],
   "source": [
    "rt = pd.DataFrame(Merge_Strava_Cheetah,columns = ['Distance','Time Moving','Average Speed','Average Heart Rate','Average Power','NP','TSS','Elevation Gain'])"
   ]
  },
  {
   "cell_type": "markdown",
   "metadata": {},
   "source": [
    "* __Step2:-__ Checking correlationship between specific fields."
   ]
  },
  {
   "cell_type": "code",
   "execution_count": 41,
   "metadata": {},
   "outputs": [
    {
     "data": {
      "text/html": [
       "<div>\n",
       "<style scoped>\n",
       "    .dataframe tbody tr th:only-of-type {\n",
       "        vertical-align: middle;\n",
       "    }\n",
       "\n",
       "    .dataframe tbody tr th {\n",
       "        vertical-align: top;\n",
       "    }\n",
       "\n",
       "    .dataframe thead th {\n",
       "        text-align: right;\n",
       "    }\n",
       "</style>\n",
       "<table border=\"1\" class=\"dataframe\">\n",
       "  <thead>\n",
       "    <tr style=\"text-align: right;\">\n",
       "      <th></th>\n",
       "      <th>Distance</th>\n",
       "      <th>Time Moving</th>\n",
       "      <th>Average Speed</th>\n",
       "      <th>Average Heart Rate</th>\n",
       "      <th>Average Power</th>\n",
       "      <th>NP</th>\n",
       "      <th>TSS</th>\n",
       "      <th>Elevation Gain</th>\n",
       "    </tr>\n",
       "  </thead>\n",
       "  <tbody>\n",
       "    <tr>\n",
       "      <th>Distance</th>\n",
       "      <td>1.000000</td>\n",
       "      <td>0.934185</td>\n",
       "      <td>0.234375</td>\n",
       "      <td>0.173256</td>\n",
       "      <td>0.164562</td>\n",
       "      <td>0.287567</td>\n",
       "      <td>0.917104</td>\n",
       "      <td>0.807242</td>\n",
       "    </tr>\n",
       "    <tr>\n",
       "      <th>Time Moving</th>\n",
       "      <td>0.934185</td>\n",
       "      <td>1.000000</td>\n",
       "      <td>-0.040434</td>\n",
       "      <td>0.037252</td>\n",
       "      <td>-0.045643</td>\n",
       "      <td>0.101212</td>\n",
       "      <td>0.866582</td>\n",
       "      <td>0.812870</td>\n",
       "    </tr>\n",
       "    <tr>\n",
       "      <th>Average Speed</th>\n",
       "      <td>0.234375</td>\n",
       "      <td>-0.040434</td>\n",
       "      <td>1.000000</td>\n",
       "      <td>0.386003</td>\n",
       "      <td>0.770931</td>\n",
       "      <td>0.650656</td>\n",
       "      <td>0.160946</td>\n",
       "      <td>0.027793</td>\n",
       "    </tr>\n",
       "    <tr>\n",
       "      <th>Average Heart Rate</th>\n",
       "      <td>0.173256</td>\n",
       "      <td>0.037252</td>\n",
       "      <td>0.386003</td>\n",
       "      <td>1.000000</td>\n",
       "      <td>0.387190</td>\n",
       "      <td>0.273245</td>\n",
       "      <td>0.174781</td>\n",
       "      <td>0.050323</td>\n",
       "    </tr>\n",
       "    <tr>\n",
       "      <th>Average Power</th>\n",
       "      <td>0.164562</td>\n",
       "      <td>-0.045643</td>\n",
       "      <td>0.770931</td>\n",
       "      <td>0.387190</td>\n",
       "      <td>1.000000</td>\n",
       "      <td>0.875896</td>\n",
       "      <td>0.272301</td>\n",
       "      <td>0.002386</td>\n",
       "    </tr>\n",
       "    <tr>\n",
       "      <th>NP</th>\n",
       "      <td>0.287567</td>\n",
       "      <td>0.101212</td>\n",
       "      <td>0.650656</td>\n",
       "      <td>0.273245</td>\n",
       "      <td>0.875896</td>\n",
       "      <td>1.000000</td>\n",
       "      <td>0.450335</td>\n",
       "      <td>0.236570</td>\n",
       "    </tr>\n",
       "    <tr>\n",
       "      <th>TSS</th>\n",
       "      <td>0.917104</td>\n",
       "      <td>0.866582</td>\n",
       "      <td>0.160946</td>\n",
       "      <td>0.174781</td>\n",
       "      <td>0.272301</td>\n",
       "      <td>0.450335</td>\n",
       "      <td>1.000000</td>\n",
       "      <td>0.826334</td>\n",
       "    </tr>\n",
       "    <tr>\n",
       "      <th>Elevation Gain</th>\n",
       "      <td>0.807242</td>\n",
       "      <td>0.812870</td>\n",
       "      <td>0.027793</td>\n",
       "      <td>0.050323</td>\n",
       "      <td>0.002386</td>\n",
       "      <td>0.236570</td>\n",
       "      <td>0.826334</td>\n",
       "      <td>1.000000</td>\n",
       "    </tr>\n",
       "  </tbody>\n",
       "</table>\n",
       "</div>"
      ],
      "text/plain": [
       "                    Distance  Time Moving  Average Speed  Average Heart Rate  \\\n",
       "Distance            1.000000     0.934185       0.234375            0.173256   \n",
       "Time Moving         0.934185     1.000000      -0.040434            0.037252   \n",
       "Average Speed       0.234375    -0.040434       1.000000            0.386003   \n",
       "Average Heart Rate  0.173256     0.037252       0.386003            1.000000   \n",
       "Average Power       0.164562    -0.045643       0.770931            0.387190   \n",
       "NP                  0.287567     0.101212       0.650656            0.273245   \n",
       "TSS                 0.917104     0.866582       0.160946            0.174781   \n",
       "Elevation Gain      0.807242     0.812870       0.027793            0.050323   \n",
       "\n",
       "                    Average Power        NP       TSS  Elevation Gain  \n",
       "Distance                 0.164562  0.287567  0.917104        0.807242  \n",
       "Time Moving             -0.045643  0.101212  0.866582        0.812870  \n",
       "Average Speed            0.770931  0.650656  0.160946        0.027793  \n",
       "Average Heart Rate       0.387190  0.273245  0.174781        0.050323  \n",
       "Average Power            1.000000  0.875896  0.272301        0.002386  \n",
       "NP                       0.875896  1.000000  0.450335        0.236570  \n",
       "TSS                      0.272301  0.450335  1.000000        0.826334  \n",
       "Elevation Gain           0.002386  0.236570  0.826334        1.000000  "
      ]
     },
     "execution_count": 41,
     "metadata": {},
     "output_type": "execute_result"
    }
   ],
   "source": [
    "corr = rt.corr()\n",
    "corr"
   ]
  },
  {
   "cell_type": "markdown",
   "metadata": {},
   "source": [
    "__Interpretation:-__ The degree of correlation ranges from -1 to 1. Here, -1 represent strong negative degree of correlation and 1 represent strong positive degree of correlation. The \"Distance\" vs \"Time moving\" represent strong positive degree of correlation with value 0.93. The 'Time Moving' vs 'Avg speed', 'Time Moving' vs 'Average heart rate','Time Moving' vs  'Avg Power','Time Moving' vs  'Np' represent the lowest degree of correlation as there value is extremely negatively low. From the relationship table, we can see that its quite hard to figureout the degree of correlationship based on the numerical values presented on the table. We need to draw a heatmap diagram that shows the visualization of correlationship between these fields."
   ]
  },
  {
   "cell_type": "code",
   "execution_count": 44,
   "metadata": {},
   "outputs": [
    {
     "data": {
      "text/plain": [
       "Text(0.5, 1, 'Heatmap diagram that reveals relationship between variables')"
      ]
     },
     "execution_count": 44,
     "metadata": {},
     "output_type": "execute_result"
    },
    {
     "data": {
      "image/png": "[encoded data removed]",
      "text/plain": [
       "<Figure size 720x648 with 2 Axes>"
      ]
     },
     "metadata": {},
     "output_type": "display_data"
    }
   ],
   "source": [
    "sb.heatmap(corr, xticklabels = corr.columns.values, yticklabels = corr.columns.values)\n",
    "plt.title('Heatmap diagram that reveals relationship between variables')"
   ]
  },
  {
   "cell_type": "markdown",
   "metadata": {},
   "source": [
    "__Interpretation:-__ The light orange color shows the strongest correlation and the black color shows the weakest correlation. The light orange color that has the strongest correlations can be seen for 'Distance Vs Time Moving'. The black color that has the weakest correlation can be seen for 'Time Moving vs Average speed', 'Average speed vs Time Moving', and so on. The heatmap visualization techniques provide a convenient and clear picture of the relationship between fields."
   ]
  },
  {
   "cell_type": "markdown",
   "metadata": {},
   "source": [
    "__4. Some of the rides are designated as \"Race\" in the `workout_type` field, these are where I am racing and you might expect that these would be the most challenging rides.  Normalised Power (NP) is a good measure of how hard a ride is.  Explore the values of `NP` for races vs the overall set of rides to see if this hypothesis is supported (use graphs and summary statistics).  Are races more challenging than rides in general?__"
   ]
  },
  {
   "cell_type": "markdown",
   "metadata": {},
   "source": [
    "* __Step1:-__ Storing the result of workout_type field as Race and checking the summary statistics."
   ]
  },
  {
   "cell_type": "code",
   "execution_count": 45,
   "metadata": {},
   "outputs": [
    {
     "data": {
      "text/html": [
       "<div>\n",
       "<style scoped>\n",
       "    .dataframe tbody tr th:only-of-type {\n",
       "        vertical-align: middle;\n",
       "    }\n",
       "\n",
       "    .dataframe tbody tr th {\n",
       "        vertical-align: top;\n",
       "    }\n",
       "\n",
       "    .dataframe thead th {\n",
       "        text-align: right;\n",
       "    }\n",
       "</style>\n",
       "<table border=\"1\" class=\"dataframe\">\n",
       "  <thead>\n",
       "    <tr style=\"text-align: right;\">\n",
       "      <th></th>\n",
       "      <th>NP</th>\n",
       "    </tr>\n",
       "  </thead>\n",
       "  <tbody>\n",
       "    <tr>\n",
       "      <th>count</th>\n",
       "      <td>30.000000</td>\n",
       "    </tr>\n",
       "    <tr>\n",
       "      <th>mean</th>\n",
       "      <td>251.003800</td>\n",
       "    </tr>\n",
       "    <tr>\n",
       "      <th>std</th>\n",
       "      <td>50.774197</td>\n",
       "    </tr>\n",
       "    <tr>\n",
       "      <th>min</th>\n",
       "      <td>0.000000</td>\n",
       "    </tr>\n",
       "    <tr>\n",
       "      <th>25%</th>\n",
       "      <td>244.716250</td>\n",
       "    </tr>\n",
       "    <tr>\n",
       "      <th>50%</th>\n",
       "      <td>257.170000</td>\n",
       "    </tr>\n",
       "    <tr>\n",
       "      <th>75%</th>\n",
       "      <td>272.654250</td>\n",
       "    </tr>\n",
       "    <tr>\n",
       "      <th>max</th>\n",
       "      <td>302.396000</td>\n",
       "    </tr>\n",
       "  </tbody>\n",
       "</table>\n",
       "</div>"
      ],
      "text/plain": [
       "               NP\n",
       "count   30.000000\n",
       "mean   251.003800\n",
       "std     50.774197\n",
       "min      0.000000\n",
       "25%    244.716250\n",
       "50%    257.170000\n",
       "75%    272.654250\n",
       "max    302.396000"
      ]
     },
     "execution_count": 45,
     "metadata": {},
     "output_type": "execute_result"
    }
   ],
   "source": [
    "Race = Merge_Strava_Cheetah[Merge_Strava_Cheetah['workout_type'] == 'Race']\n",
    "Race_NP = Race[['NP','workout_type']]\n",
    "Race_NP.describe()"
   ]
  },
  {
   "cell_type": "markdown",
   "metadata": {},
   "source": [
    "__Interpretation:-__ From the summary statistics, we can see that the average value of NP for races is 251.003 and count is 30."
   ]
  },
  {
   "cell_type": "code",
   "execution_count": 46,
   "metadata": {},
   "outputs": [
    {
     "data": {
      "text/html": [
       "<div>\n",
       "<style scoped>\n",
       "    .dataframe tbody tr th:only-of-type {\n",
       "        vertical-align: middle;\n",
       "    }\n",
       "\n",
       "    .dataframe tbody tr th {\n",
       "        vertical-align: top;\n",
       "    }\n",
       "\n",
       "    .dataframe thead th {\n",
       "        text-align: right;\n",
       "    }\n",
       "</style>\n",
       "<table border=\"1\" class=\"dataframe\">\n",
       "  <thead>\n",
       "    <tr style=\"text-align: right;\">\n",
       "      <th></th>\n",
       "      <th>NP</th>\n",
       "    </tr>\n",
       "  </thead>\n",
       "  <tbody>\n",
       "    <tr>\n",
       "      <th>count</th>\n",
       "      <td>212.000000</td>\n",
       "    </tr>\n",
       "    <tr>\n",
       "      <th>mean</th>\n",
       "      <td>215.759731</td>\n",
       "    </tr>\n",
       "    <tr>\n",
       "      <th>std</th>\n",
       "      <td>49.747963</td>\n",
       "    </tr>\n",
       "    <tr>\n",
       "      <th>min</th>\n",
       "      <td>0.000000</td>\n",
       "    </tr>\n",
       "    <tr>\n",
       "      <th>25%</th>\n",
       "      <td>203.262000</td>\n",
       "    </tr>\n",
       "    <tr>\n",
       "      <th>50%</th>\n",
       "      <td>222.906500</td>\n",
       "    </tr>\n",
       "    <tr>\n",
       "      <th>75%</th>\n",
       "      <td>239.860750</td>\n",
       "    </tr>\n",
       "    <tr>\n",
       "      <th>max</th>\n",
       "      <td>302.396000</td>\n",
       "    </tr>\n",
       "  </tbody>\n",
       "</table>\n",
       "</div>"
      ],
      "text/plain": [
       "               NP\n",
       "count  212.000000\n",
       "mean   215.759731\n",
       "std     49.747963\n",
       "min      0.000000\n",
       "25%    203.262000\n",
       "50%    222.906500\n",
       "75%    239.860750\n",
       "max    302.396000"
      ]
     },
     "execution_count": 46,
     "metadata": {},
     "output_type": "execute_result"
    }
   ],
   "source": [
    "merge_totalrecords_NP=Merge_Strava_Cheetah[['NP','workout_type']]\n",
    "merge_totalrecords_NP.describe()"
   ]
  },
  {
   "cell_type": "markdown",
   "metadata": {},
   "source": [
    "__Interpretation:-__ From the summary statistics, we can see that the average value of NP for over all ride is 251.75 and the count is 212. Comparing overall rides vs values in NP,  only 14.15% of total participants are in race."
   ]
  },
  {
   "cell_type": "code",
   "execution_count": 50,
   "metadata": {},
   "outputs": [
    {
     "data": {
      "text/plain": [
       "Text(0.5, 1.0, 'Values of NP Vs Overall set of data')"
      ]
     },
     "execution_count": 50,
     "metadata": {},
     "output_type": "execute_result"
    },
    {
     "data": {
      "image/png": "[encoded data removed]",
      "text/plain": [
       "<Figure size 720x648 with 1 Axes>"
      ]
     },
     "metadata": {},
     "output_type": "display_data"
    }
   ],
   "source": [
    "ax1 = Race_NP.plot(kind='scatter', x= 'workout_type', y='NP')    \n",
    "ax2 = merge_totalrecords_NP.plot(kind='scatter',x= 'workout_type', y='NP', ax=ax1)  \n",
    "plt.xlabel('Work Type')\n",
    "plt.ylabel('Values of NP')\n",
    "plt.title('Values of NP Vs Overall set of data')"
   ]
  },
  {
   "cell_type": "markdown",
   "metadata": {},
   "source": [
    "__Interpretation:-__ Plotting scatter diagram between Values of NP vs Overall set of data, we can see that a larger number of participants preferred Ride comparing to Race and Workout. We can conclude that participants mostly enjoyed going to Ride. We also see a considerably low number of participants preferring Race work type. Also, the participants who preferred the Race work type seem to have considerably large values of NP. Since the larger values of NP is a good measure of how hard the ride is. We can say that Race is more challenging than Ride."
   ]
  },
  {
   "cell_type": "markdown",
   "metadata": {},
   "source": [
    "__5. It is useful to see a summary of rides over the year. Generate a plot that summarises the number of km ridden each month over the period of the data. Overlay this with the _sum_ of the Training Stress Score and the _average_ of the Average Speed to generate an overall summary of activity.__\n"
   ]
  },
  {
   "cell_type": "markdown",
   "metadata": {},
   "source": [
    "* __Step1:-__ Storing the result of a ride in a variable and calculating total distance covered based on each month using groupby function."
   ]
  },
  {
   "cell_type": "code",
   "execution_count": 69,
   "metadata": {},
   "outputs": [
    {
     "data": {
      "text/html": [
       "<div>\n",
       "<style scoped>\n",
       "    .dataframe tbody tr th:only-of-type {\n",
       "        vertical-align: middle;\n",
       "    }\n",
       "\n",
       "    .dataframe tbody tr th {\n",
       "        vertical-align: top;\n",
       "    }\n",
       "\n",
       "    .dataframe thead th {\n",
       "        text-align: right;\n",
       "    }\n",
       "</style>\n",
       "<table border=\"1\" class=\"dataframe\">\n",
       "  <thead>\n",
       "    <tr style=\"text-align: right;\">\n",
       "      <th></th>\n",
       "      <th>Month</th>\n",
       "      <th>distance</th>\n",
       "    </tr>\n",
       "  </thead>\n",
       "  <tbody>\n",
       "    <tr>\n",
       "      <th>0</th>\n",
       "      <td>1</td>\n",
       "      <td>351.1</td>\n",
       "    </tr>\n",
       "    <tr>\n",
       "      <th>1</th>\n",
       "      <td>2</td>\n",
       "      <td>618.5</td>\n",
       "    </tr>\n",
       "    <tr>\n",
       "      <th>2</th>\n",
       "      <td>3</td>\n",
       "      <td>757.1</td>\n",
       "    </tr>\n",
       "    <tr>\n",
       "      <th>3</th>\n",
       "      <td>4</td>\n",
       "      <td>907.5</td>\n",
       "    </tr>\n",
       "    <tr>\n",
       "      <th>4</th>\n",
       "      <td>5</td>\n",
       "      <td>632.8</td>\n",
       "    </tr>\n",
       "    <tr>\n",
       "      <th>5</th>\n",
       "      <td>6</td>\n",
       "      <td>481.0</td>\n",
       "    </tr>\n",
       "    <tr>\n",
       "      <th>6</th>\n",
       "      <td>7</td>\n",
       "      <td>467.2</td>\n",
       "    </tr>\n",
       "    <tr>\n",
       "      <th>7</th>\n",
       "      <td>8</td>\n",
       "      <td>103.1</td>\n",
       "    </tr>\n",
       "    <tr>\n",
       "      <th>8</th>\n",
       "      <td>9</td>\n",
       "      <td>160.6</td>\n",
       "    </tr>\n",
       "    <tr>\n",
       "      <th>9</th>\n",
       "      <td>10</td>\n",
       "      <td>388.8</td>\n",
       "    </tr>\n",
       "    <tr>\n",
       "      <th>10</th>\n",
       "      <td>11</td>\n",
       "      <td>490.4</td>\n",
       "    </tr>\n",
       "    <tr>\n",
       "      <th>11</th>\n",
       "      <td>12</td>\n",
       "      <td>415.2</td>\n",
       "    </tr>\n",
       "  </tbody>\n",
       "</table>\n",
       "</div>"
      ],
      "text/plain": [
       "    Month  distance\n",
       "0       1     351.1\n",
       "1       2     618.5\n",
       "2       3     757.1\n",
       "3       4     907.5\n",
       "4       5     632.8\n",
       "5       6     481.0\n",
       "6       7     467.2\n",
       "7       8     103.1\n",
       "8       9     160.6\n",
       "9      10     388.8\n",
       "10     11     490.4\n",
       "11     12     415.2"
      ]
     },
     "execution_count": 69,
     "metadata": {},
     "output_type": "execute_result"
    }
   ],
   "source": [
    "Ride_take = Merge_Strava_Cheetah[Merge_Strava_Cheetah['workout_type']=='Ride']\n",
    "Ride_take['date'] = pd.to_datetime(Ride_take['date'])\n",
    "Ride_take['Month'] = Ride_take['date'].dt.month\n",
    "MonthVsdistance = Ride_take.groupby(\"Month\")['distance'].sum()\n",
    "MonthVsdistanceFinal = MonthVsdistance.reset_index()\n",
    "MonthVsdistanceFinal"
   ]
  },
  {
   "cell_type": "markdown",
   "metadata": {},
   "source": [
    "* __Step2:-__ Similarly, calculating total TSS based on each month using groupby function."
   ]
  },
  {
   "cell_type": "code",
   "execution_count": 70,
   "metadata": {},
   "outputs": [
    {
     "data": {
      "text/html": [
       "<div>\n",
       "<style scoped>\n",
       "    .dataframe tbody tr th:only-of-type {\n",
       "        vertical-align: middle;\n",
       "    }\n",
       "\n",
       "    .dataframe tbody tr th {\n",
       "        vertical-align: top;\n",
       "    }\n",
       "\n",
       "    .dataframe thead th {\n",
       "        text-align: right;\n",
       "    }\n",
       "</style>\n",
       "<table border=\"1\" class=\"dataframe\">\n",
       "  <thead>\n",
       "    <tr style=\"text-align: right;\">\n",
       "      <th></th>\n",
       "      <th>Month</th>\n",
       "      <th>TSS</th>\n",
       "    </tr>\n",
       "  </thead>\n",
       "  <tbody>\n",
       "    <tr>\n",
       "      <th>0</th>\n",
       "      <td>1</td>\n",
       "      <td>966.2920</td>\n",
       "    </tr>\n",
       "    <tr>\n",
       "      <th>1</th>\n",
       "      <td>2</td>\n",
       "      <td>1683.9476</td>\n",
       "    </tr>\n",
       "    <tr>\n",
       "      <th>2</th>\n",
       "      <td>3</td>\n",
       "      <td>2494.5250</td>\n",
       "    </tr>\n",
       "    <tr>\n",
       "      <th>3</th>\n",
       "      <td>4</td>\n",
       "      <td>2517.4567</td>\n",
       "    </tr>\n",
       "    <tr>\n",
       "      <th>4</th>\n",
       "      <td>5</td>\n",
       "      <td>1733.9907</td>\n",
       "    </tr>\n",
       "    <tr>\n",
       "      <th>5</th>\n",
       "      <td>6</td>\n",
       "      <td>1432.3450</td>\n",
       "    </tr>\n",
       "    <tr>\n",
       "      <th>6</th>\n",
       "      <td>7</td>\n",
       "      <td>1219.7014</td>\n",
       "    </tr>\n",
       "    <tr>\n",
       "      <th>7</th>\n",
       "      <td>8</td>\n",
       "      <td>331.4360</td>\n",
       "    </tr>\n",
       "    <tr>\n",
       "      <th>8</th>\n",
       "      <td>9</td>\n",
       "      <td>564.7220</td>\n",
       "    </tr>\n",
       "    <tr>\n",
       "      <th>9</th>\n",
       "      <td>10</td>\n",
       "      <td>951.4079</td>\n",
       "    </tr>\n",
       "    <tr>\n",
       "      <th>10</th>\n",
       "      <td>11</td>\n",
       "      <td>1337.7984</td>\n",
       "    </tr>\n",
       "    <tr>\n",
       "      <th>11</th>\n",
       "      <td>12</td>\n",
       "      <td>1225.9295</td>\n",
       "    </tr>\n",
       "  </tbody>\n",
       "</table>\n",
       "</div>"
      ],
      "text/plain": [
       "    Month        TSS\n",
       "0       1   966.2920\n",
       "1       2  1683.9476\n",
       "2       3  2494.5250\n",
       "3       4  2517.4567\n",
       "4       5  1733.9907\n",
       "5       6  1432.3450\n",
       "6       7  1219.7014\n",
       "7       8   331.4360\n",
       "8       9   564.7220\n",
       "9      10   951.4079\n",
       "10     11  1337.7984\n",
       "11     12  1225.9295"
      ]
     },
     "execution_count": 70,
     "metadata": {},
     "output_type": "execute_result"
    }
   ],
   "source": [
    "MonthVsTSS = Ride_take.groupby(\"Month\")['TSS'].sum()\n",
    "MonthVsTSSFinal = MonthVsTSS.reset_index()\n",
    "MonthVsTSSFinal"
   ]
  },
  {
   "cell_type": "markdown",
   "metadata": {},
   "source": [
    "* __Step3:-__ Similarly, calculating Average of Average speed based on each month using groupby function."
   ]
  },
  {
   "cell_type": "code",
   "execution_count": 71,
   "metadata": {},
   "outputs": [
    {
     "data": {
      "text/html": [
       "<div>\n",
       "<style scoped>\n",
       "    .dataframe tbody tr th:only-of-type {\n",
       "        vertical-align: middle;\n",
       "    }\n",
       "\n",
       "    .dataframe tbody tr th {\n",
       "        vertical-align: top;\n",
       "    }\n",
       "\n",
       "    .dataframe thead th {\n",
       "        text-align: right;\n",
       "    }\n",
       "</style>\n",
       "<table border=\"1\" class=\"dataframe\">\n",
       "  <thead>\n",
       "    <tr style=\"text-align: right;\">\n",
       "      <th></th>\n",
       "      <th>Month</th>\n",
       "      <th>Average Speed</th>\n",
       "    </tr>\n",
       "  </thead>\n",
       "  <tbody>\n",
       "    <tr>\n",
       "      <th>0</th>\n",
       "      <td>1</td>\n",
       "      <td>20.172441</td>\n",
       "    </tr>\n",
       "    <tr>\n",
       "      <th>1</th>\n",
       "      <td>2</td>\n",
       "      <td>23.742950</td>\n",
       "    </tr>\n",
       "    <tr>\n",
       "      <th>2</th>\n",
       "      <td>3</td>\n",
       "      <td>23.752011</td>\n",
       "    </tr>\n",
       "    <tr>\n",
       "      <th>3</th>\n",
       "      <td>4</td>\n",
       "      <td>22.012100</td>\n",
       "    </tr>\n",
       "    <tr>\n",
       "      <th>4</th>\n",
       "      <td>5</td>\n",
       "      <td>25.163340</td>\n",
       "    </tr>\n",
       "    <tr>\n",
       "      <th>5</th>\n",
       "      <td>6</td>\n",
       "      <td>24.184394</td>\n",
       "    </tr>\n",
       "    <tr>\n",
       "      <th>6</th>\n",
       "      <td>7</td>\n",
       "      <td>23.706800</td>\n",
       "    </tr>\n",
       "    <tr>\n",
       "      <th>7</th>\n",
       "      <td>8</td>\n",
       "      <td>24.603700</td>\n",
       "    </tr>\n",
       "    <tr>\n",
       "      <th>8</th>\n",
       "      <td>9</td>\n",
       "      <td>24.427367</td>\n",
       "    </tr>\n",
       "    <tr>\n",
       "      <th>9</th>\n",
       "      <td>10</td>\n",
       "      <td>25.648018</td>\n",
       "    </tr>\n",
       "    <tr>\n",
       "      <th>10</th>\n",
       "      <td>11</td>\n",
       "      <td>22.911415</td>\n",
       "    </tr>\n",
       "    <tr>\n",
       "      <th>11</th>\n",
       "      <td>12</td>\n",
       "      <td>24.643389</td>\n",
       "    </tr>\n",
       "  </tbody>\n",
       "</table>\n",
       "</div>"
      ],
      "text/plain": [
       "    Month  Average Speed\n",
       "0       1      20.172441\n",
       "1       2      23.742950\n",
       "2       3      23.752011\n",
       "3       4      22.012100\n",
       "4       5      25.163340\n",
       "5       6      24.184394\n",
       "6       7      23.706800\n",
       "7       8      24.603700\n",
       "8       9      24.427367\n",
       "9      10      25.648018\n",
       "10     11      22.911415\n",
       "11     12      24.643389"
      ]
     },
     "execution_count": 71,
     "metadata": {},
     "output_type": "execute_result"
    }
   ],
   "source": [
    "MonthVsAverageSpeed = Ride_take.groupby('Month')['Average Speed'].mean()\n",
    "MonthVsAverageSpeedFinal = MonthVsAverageSpeed.reset_index()\n",
    "MonthVsAverageSpeedFinal"
   ]
  },
  {
   "cell_type": "markdown",
   "metadata": {},
   "source": [
    "* __Step4:-__  As we need to show the relation between month based on distance, TSS and Avg of Average speed. Plotting and interpreting the data in a single graph can be confusing. We need to use subplots to plot data in separate graphs."
   ]
  },
  {
   "cell_type": "code",
   "execution_count": 72,
   "metadata": {},
   "outputs": [
    {
     "data": {
      "image/png": "[encoded data removed]",
      "text/plain": [
       "<Figure size 720x648 with 3 Axes>"
      ]
     },
     "metadata": {},
     "output_type": "display_data"
    }
   ],
   "source": [
    "fig = plt.figure()\n",
    "\n",
    "ax1 = fig.add_subplot(221)\n",
    "ax2 = fig.add_subplot(222)\n",
    "ax3 = fig.add_subplot(212)\n",
    "\n",
    "ax1.plot(MonthVsdistanceFinal['Month'],MonthVsdistanceFinal['distance']); ax1.set_title('Month VS distance');ax1.ylabel ='Distance';ax1.xlabel ='Month';\n",
    "ax2.plot(MonthVsdistanceFinal['Month'],MonthVsTSSFinal['TSS']); ax2.set_title('Month VS TSS')\n",
    "ax3.plot(MonthVsdistanceFinal['Month'],MonthVsAverageSpeedFinal['Average Speed']); ax3.set_title('Month VS Average Speed')\n",
    "plt.show()"
   ]
  },
  {
   "cell_type": "markdown",
   "metadata": {},
   "source": [
    "__Interpretation:-__ \n",
    "1. While comparing Month Vs distance, April is the month where most people traveled to maximum distance and from April to August, we see a drastic drop in total distance traveled and from September onwards, we again see an increase in total distance.\n",
    "2. While comparing Month Vs TSS, March is the month where most people has training stress score and from April to June, we see a drastic drop in training stress score and from July onwards, we again see an increase in TSS trend.\n",
    "3. While comparing Month Vs Average Speed, we see a fluctuation of average speed throughout the year. From January, we see a rise in average speed and in march we again see a drop in average speed. Likewise in April, we see a drastic increase in average speed. In conclusion, throughout the month we see fluctuation in the data."
   ]
  }
 ],
 "metadata": {
  "kernelspec": {
   "display_name": "Python 3",
   "language": "python",
   "name": "python3"
  },
  "language_info": {
   "codemirror_mode": {
    "name": "ipython",
    "version": 3
   },
   "file_extension": ".py",
   "mimetype": "text/x-python",
   "name": "python",
   "nbconvert_exporter": "python",
   "pygments_lexer": "ipython3",
   "version": "3.7.4"
  }
 },
 "nbformat": 4,
 "nbformat_minor": 2
}

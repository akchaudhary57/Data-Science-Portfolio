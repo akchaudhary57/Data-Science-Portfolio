{
 "cells": [
  {
   "cell_type": "markdown",
   "metadata": {},
   "source": [
    "# Portfolio 2: Analysing COVID-19 Data\n",
    "\n",
    "For the second portfolio we'll look at the most relevant dataset to our lives at the moment: the global spread of COVID-19.   There is an open dataset avaialable that is updated often showing the number of cases in different regions of the world.  This is the source of the graphs and visualisations that you'll see on the news. \n",
    "\n",
    "Here are some sample stories for reference:\n",
    "\n",
    "* [From the ABC](https://www.abc.net.au/news/2020-03-26/coronavirus-covid19-global-spread-data-explained/12089028)\n",
    "* [From the Guardian](https://www.theguardian.com/australia-news/datablog/ng-interactive/2020/apr/06/coronavirus-cases-in-australia-map-curve-confirmed-numbers-stats-how-many-covid-19-nsw-by-postcode-maps-victoria-live-data-qld-sa-wa-tas-nt-act-latest-statistics)\n",
    "* [Coronavirus in Australia](https://www.covid19data.com.au/)\n",
    "* [ArcGIS Dashboard](https://www.arcgis.com/apps/opsdashboard/index.html#/bda7594740fd40299423467b48e9ecf6) Johns Hopkins\n"
   ]
  },
  {
   "cell_type": "code",
   "execution_count": 4,
   "metadata": {},
   "outputs": [],
   "source": [
    "#Importing libraries\n",
    "import pandas as pd\n",
    "import pandas.util.testing\n",
    "import pandas.testing\n",
    "import numpy as np\n",
    "from matplotlib import pyplot as plt\n",
    "from datetime import timedelta\n",
    "plt.style.use('seaborn')\n",
    "%matplotlib inline\n",
    "import plotly\n",
    "import plotly.express as px\n",
    "import plotly.graph_objects as go\n",
    "import datetime\n",
    "from datetime import datetime\n",
    "import statistics as st\n",
    "import scipy\n",
    "from pylab import rcParams\n",
    "import seaborn as sb\n",
    "from scipy.stats.stats import pearsonr\n",
    "rcParams['figure.figsize'] = 10,9\n",
    "sb.set_style('whitegrid')\n",
    "from scipy.stats import ttest_ind\n",
    "pd.set_option('mode.chained_assignment', None)\n"
   ]
  },
  {
   "cell_type": "markdown",
   "metadata": {},
   "source": [
    "## Getting the Data\n",
    "\n",
    "The first step is to get a copy of the raw data.  The data is being made available by Johns Hopkins University in [this GitHub repository](https://github.com/CSSEGISandData/COVID-19). We're interestd in the global confirmed cases dataset but you can also get data on deaths and recovered cases.  \n",
    "\n",
    "You can either download a copy of the data into your project or just read it from the URL. The advantage of reading the URL is that you'll get live updates, but this might make it harder for you to repeat your experiments if the data changes.  Also, you would be making new requests for data every time you ran your worksheet putting load on the server (and your own network connection).  Consider downloading a copy as you are developing your worksheet and then switching to the live version once everything is debugged. (Eg. you could clone the github repository and copy the relevant data file into this project)."
   ]
  },
  {
   "cell_type": "code",
   "execution_count": 5,
   "metadata": {},
   "outputs": [
    {
     "data": {
      "text/html": [
       "<div>\n",
       "<style scoped>\n",
       "    .dataframe tbody tr th:only-of-type {\n",
       "        vertical-align: middle;\n",
       "    }\n",
       "\n",
       "    .dataframe tbody tr th {\n",
       "        vertical-align: top;\n",
       "    }\n",
       "\n",
       "    .dataframe thead th {\n",
       "        text-align: right;\n",
       "    }\n",
       "</style>\n",
       "<table border=\"1\" class=\"dataframe\">\n",
       "  <thead>\n",
       "    <tr style=\"text-align: right;\">\n",
       "      <th></th>\n",
       "      <th>Province/State</th>\n",
       "      <th>Country/Region</th>\n",
       "      <th>Lat</th>\n",
       "      <th>Long</th>\n",
       "      <th>1/22/20</th>\n",
       "      <th>1/23/20</th>\n",
       "      <th>1/24/20</th>\n",
       "      <th>1/25/20</th>\n",
       "      <th>1/26/20</th>\n",
       "      <th>1/27/20</th>\n",
       "      <th>...</th>\n",
       "      <th>5/14/20</th>\n",
       "      <th>5/15/20</th>\n",
       "      <th>5/16/20</th>\n",
       "      <th>5/17/20</th>\n",
       "      <th>5/18/20</th>\n",
       "      <th>5/19/20</th>\n",
       "      <th>5/20/20</th>\n",
       "      <th>5/21/20</th>\n",
       "      <th>5/22/20</th>\n",
       "      <th>5/23/20</th>\n",
       "    </tr>\n",
       "  </thead>\n",
       "  <tbody>\n",
       "    <tr>\n",
       "      <th>0</th>\n",
       "      <td>NaN</td>\n",
       "      <td>Afghanistan</td>\n",
       "      <td>33.0000</td>\n",
       "      <td>65.0000</td>\n",
       "      <td>0</td>\n",
       "      <td>0</td>\n",
       "      <td>0</td>\n",
       "      <td>0</td>\n",
       "      <td>0</td>\n",
       "      <td>0</td>\n",
       "      <td>...</td>\n",
       "      <td>5639</td>\n",
       "      <td>6053</td>\n",
       "      <td>6402</td>\n",
       "      <td>6664</td>\n",
       "      <td>7072</td>\n",
       "      <td>7653</td>\n",
       "      <td>8145</td>\n",
       "      <td>8676</td>\n",
       "      <td>9216</td>\n",
       "      <td>9998</td>\n",
       "    </tr>\n",
       "    <tr>\n",
       "      <th>1</th>\n",
       "      <td>NaN</td>\n",
       "      <td>Albania</td>\n",
       "      <td>41.1533</td>\n",
       "      <td>20.1683</td>\n",
       "      <td>0</td>\n",
       "      <td>0</td>\n",
       "      <td>0</td>\n",
       "      <td>0</td>\n",
       "      <td>0</td>\n",
       "      <td>0</td>\n",
       "      <td>...</td>\n",
       "      <td>898</td>\n",
       "      <td>916</td>\n",
       "      <td>933</td>\n",
       "      <td>946</td>\n",
       "      <td>948</td>\n",
       "      <td>949</td>\n",
       "      <td>964</td>\n",
       "      <td>969</td>\n",
       "      <td>981</td>\n",
       "      <td>989</td>\n",
       "    </tr>\n",
       "    <tr>\n",
       "      <th>2</th>\n",
       "      <td>NaN</td>\n",
       "      <td>Algeria</td>\n",
       "      <td>28.0339</td>\n",
       "      <td>1.6596</td>\n",
       "      <td>0</td>\n",
       "      <td>0</td>\n",
       "      <td>0</td>\n",
       "      <td>0</td>\n",
       "      <td>0</td>\n",
       "      <td>0</td>\n",
       "      <td>...</td>\n",
       "      <td>6442</td>\n",
       "      <td>6629</td>\n",
       "      <td>6821</td>\n",
       "      <td>7019</td>\n",
       "      <td>7201</td>\n",
       "      <td>7377</td>\n",
       "      <td>7542</td>\n",
       "      <td>7728</td>\n",
       "      <td>7918</td>\n",
       "      <td>8113</td>\n",
       "    </tr>\n",
       "    <tr>\n",
       "      <th>3</th>\n",
       "      <td>NaN</td>\n",
       "      <td>Andorra</td>\n",
       "      <td>42.5063</td>\n",
       "      <td>1.5218</td>\n",
       "      <td>0</td>\n",
       "      <td>0</td>\n",
       "      <td>0</td>\n",
       "      <td>0</td>\n",
       "      <td>0</td>\n",
       "      <td>0</td>\n",
       "      <td>...</td>\n",
       "      <td>761</td>\n",
       "      <td>761</td>\n",
       "      <td>761</td>\n",
       "      <td>761</td>\n",
       "      <td>761</td>\n",
       "      <td>761</td>\n",
       "      <td>762</td>\n",
       "      <td>762</td>\n",
       "      <td>762</td>\n",
       "      <td>762</td>\n",
       "    </tr>\n",
       "    <tr>\n",
       "      <th>4</th>\n",
       "      <td>NaN</td>\n",
       "      <td>Angola</td>\n",
       "      <td>-11.2027</td>\n",
       "      <td>17.8739</td>\n",
       "      <td>0</td>\n",
       "      <td>0</td>\n",
       "      <td>0</td>\n",
       "      <td>0</td>\n",
       "      <td>0</td>\n",
       "      <td>0</td>\n",
       "      <td>...</td>\n",
       "      <td>48</td>\n",
       "      <td>48</td>\n",
       "      <td>48</td>\n",
       "      <td>48</td>\n",
       "      <td>50</td>\n",
       "      <td>52</td>\n",
       "      <td>52</td>\n",
       "      <td>58</td>\n",
       "      <td>60</td>\n",
       "      <td>61</td>\n",
       "    </tr>\n",
       "  </tbody>\n",
       "</table>\n",
       "<p>5 rows × 127 columns</p>\n",
       "</div>"
      ],
      "text/plain": [
       "  Province/State Country/Region      Lat     Long  1/22/20  1/23/20  1/24/20  \\\n",
       "0            NaN    Afghanistan  33.0000  65.0000        0        0        0   \n",
       "1            NaN        Albania  41.1533  20.1683        0        0        0   \n",
       "2            NaN        Algeria  28.0339   1.6596        0        0        0   \n",
       "3            NaN        Andorra  42.5063   1.5218        0        0        0   \n",
       "4            NaN         Angola -11.2027  17.8739        0        0        0   \n",
       "\n",
       "   1/25/20  1/26/20  1/27/20  ...  5/14/20  5/15/20  5/16/20  5/17/20  \\\n",
       "0        0        0        0  ...     5639     6053     6402     6664   \n",
       "1        0        0        0  ...      898      916      933      946   \n",
       "2        0        0        0  ...     6442     6629     6821     7019   \n",
       "3        0        0        0  ...      761      761      761      761   \n",
       "4        0        0        0  ...       48       48       48       48   \n",
       "\n",
       "   5/18/20  5/19/20  5/20/20  5/21/20  5/22/20  5/23/20  \n",
       "0     7072     7653     8145     8676     9216     9998  \n",
       "1      948      949      964      969      981      989  \n",
       "2     7201     7377     7542     7728     7918     8113  \n",
       "3      761      761      762      762      762      762  \n",
       "4       50       52       52       58       60       61  \n",
       "\n",
       "[5 rows x 127 columns]"
      ]
     },
     "execution_count": 5,
     "metadata": {},
     "output_type": "execute_result"
    }
   ],
   "source": [
    "# loading the live dataset, assumes a working network connection\n",
    "covid_data_url = 'https://github.com/CSSEGISandData/COVID-19/raw/master/csse_covid_19_data/csse_covid_19_time_series/time_series_covid19_confirmed_global.csv'\n",
    "covid = pd.read_csv(covid_data_url)\n",
    "covid.head()"
   ]
  },
  {
   "cell_type": "markdown",
   "metadata": {},
   "source": [
    "## Explore the Data\n",
    "\n",
    "The format of this data is one row per geographical region with columns for Lat/Long and then one column for each day's data.  Most regions are countries but in some cases, as in Australia, they are states.  \n",
    "\n",
    "For the analysis we want to do we'll look at data for countries only, so the first operation on the data frame is to combine all of the rows for countries like Australia that are split into states.  We then want to drop the non-numeric columns to leave us with just the numbers on each day for each country.  This can be done using the [`groupby`](https://pandas.pydata.org/docs/getting_started/10min.html#grouping) method and the [`drop`](https://pandas.pydata.org/docs/reference/api/pandas.DataFrame.drop.html) method.  We can use these to make a new dataframe containing just the numerical data."
   ]
  },
  {
   "cell_type": "code",
   "execution_count": 6,
   "metadata": {},
   "outputs": [
    {
     "data": {
      "text/plain": [
       "Index(['Country/Region', '1/22/20', '1/23/20', '1/24/20', '1/25/20', '1/26/20',\n",
       "       '1/27/20', '1/28/20', '1/29/20', '1/30/20',\n",
       "       ...\n",
       "       '5/14/20', '5/15/20', '5/16/20', '5/17/20', '5/18/20', '5/19/20',\n",
       "       '5/20/20', '5/21/20', '5/22/20', '5/23/20'],\n",
       "      dtype='object', length=124)"
      ]
     },
     "execution_count": 6,
     "metadata": {},
     "output_type": "execute_result"
    }
   ],
   "source": [
    "#Grouping on the basis of Country \n",
    "CovidGroupedData = covid.groupby('Country/Region').sum()\n",
    "\n",
    "#Dropping Lat and long\n",
    "GroupedData_Drop = CovidGroupedData.drop(['Lat', 'Long'],axis = 1)\n",
    "\n",
    "# Dropping columns that have complete 0 records in a column\n",
    "NumNumericGroup = GroupedData_Drop.loc[:, (GroupedData_Drop != 0).any(axis=0)]\n",
    "\n",
    "#Reindex to see new grouped data\n",
    "GroupedData_Clean = NumNumericGroup.reset_index()\n",
    "\n",
    "#Checking Columns of grouped data\n",
    "GroupedData_Clean.columns"
   ]
  },
  {
   "cell_type": "markdown",
   "metadata": {},
   "source": [
    "You can now select just the data for one country [using the `loc` method](https://pandas.pydata.org/docs/getting_started/10min.html#selection) since the new dataframe will have the grouped values (Countries) as the row labels. Select the data for one country (you choose which) and plot it.  You should see the exponential rise in case numbers over time."
   ]
  },
  {
   "cell_type": "code",
   "execution_count": 7,
   "metadata": {},
   "outputs": [
    {
     "data": {
      "text/html": [
       "<div>\n",
       "<style scoped>\n",
       "    .dataframe tbody tr th:only-of-type {\n",
       "        vertical-align: middle;\n",
       "    }\n",
       "\n",
       "    .dataframe tbody tr th {\n",
       "        vertical-align: top;\n",
       "    }\n",
       "\n",
       "    .dataframe thead th {\n",
       "        text-align: right;\n",
       "    }\n",
       "</style>\n",
       "<table border=\"1\" class=\"dataframe\">\n",
       "  <thead>\n",
       "    <tr style=\"text-align: right;\">\n",
       "      <th></th>\n",
       "      <th>No of Cases</th>\n",
       "      <th>Parsed Date</th>\n",
       "    </tr>\n",
       "  </thead>\n",
       "  <tbody>\n",
       "    <tr>\n",
       "      <th>2</th>\n",
       "      <td>400</td>\n",
       "      <td>2/15</td>\n",
       "    </tr>\n",
       "    <tr>\n",
       "      <th>3</th>\n",
       "      <td>11327</td>\n",
       "      <td>2/29</td>\n",
       "    </tr>\n",
       "    <tr>\n",
       "      <th>4</th>\n",
       "      <td>888589</td>\n",
       "      <td>3/15</td>\n",
       "    </tr>\n",
       "    <tr>\n",
       "      <th>5</th>\n",
       "      <td>5990057</td>\n",
       "      <td>3/31</td>\n",
       "    </tr>\n",
       "    <tr>\n",
       "      <th>6</th>\n",
       "      <td>12652195</td>\n",
       "      <td>4/15</td>\n",
       "    </tr>\n",
       "  </tbody>\n",
       "</table>\n",
       "</div>"
      ],
      "text/plain": [
       "   No of Cases Parsed Date\n",
       "2          400        2/15\n",
       "3        11327        2/29\n",
       "4       888589        3/15\n",
       "5      5990057        3/31\n",
       "6     12652195        4/15"
      ]
     },
     "execution_count": 7,
     "metadata": {},
     "output_type": "execute_result"
    }
   ],
   "source": [
    "# Using loc to look for country 'US'\n",
    "CovidUS = GroupedData_Clean.loc[GroupedData_Clean['Country/Region'] == 'US']\n",
    "\n",
    "# Stacking table to retrive year and month part from date field\n",
    "CovidStack = CovidUS.stack()\n",
    "\n",
    "# Reseting the index to view stacked data\n",
    "Coviddata1 = CovidStack.reset_index()\n",
    "\n",
    "# Cleaning the column name\n",
    "Coviddata1['Date'] =  Coviddata1['level_1']\n",
    "CovidClean1 = Coviddata1[['Date',0]]\n",
    "CovidClean1.columns = ['Date', 'No of Cases']\n",
    "DropFirstrow = CovidClean1[ CovidClean1['Date'] == 'Country/Region' ].index\n",
    "DropFirstrow\n",
    "\n",
    "# Delete these row indexes from dataFrame\n",
    "CovidClean1.drop(DropFirstrow , inplace=True)\n",
    "\n",
    "# Converting Parsed Date to date time\n",
    "CovidClean1['ParsedDate'] = pd.to_datetime(CovidClean1.Date)\n",
    "\n",
    "# Selecting Specific columns\n",
    "CovidClean2 = CovidClean1[['No of Cases','ParsedDate']]\n",
    "\n",
    "# Grouped data based on semi-monthly\n",
    "dt = CovidClean2.groupby([pd.Grouper(key='ParsedDate', freq='SM')])['No of Cases'].sum().reset_index().sort_values('ParsedDate')\n",
    "\n",
    "# Coverting to string and taking left 6 \n",
    "dt['ParsedDate'] = dt.astype(str)\n",
    "dt['FinalParsedDate'] =  dt['ParsedDate'].str[6:]\n",
    "\n",
    "# Cleaning the string\n",
    "dt['Parsed Date'] = dt['FinalParsedDate'].replace({'-':'/'}, regex=True)\n",
    "\n",
    "# Final Parsed data set\n",
    "dt_Final = dt[['No of Cases', 'Parsed Date']]\n",
    "\n",
    "# Filtering to remove data from 4/30\n",
    "dt_FinalCOVID = dt_Final[dt_Final['Parsed Date'] >= '4/30' ].index\n",
    "\n",
    "# Dropping data from 4/30\n",
    "dt_Final.drop(dt_FinalCOVID , inplace=True)\n",
    "\n",
    "# Viewing tail records\n",
    "dt_Final.tail()"
   ]
  },
  {
   "cell_type": "code",
   "execution_count": 8,
   "metadata": {},
   "outputs": [
    {
     "name": "stdout",
     "output_type": "stream",
     "text": [
      "4/15\n"
     ]
    },
    {
     "data": {
      "image/png": "[encoded data removed]",
      "text/plain": [
       "<Figure size 720x648 with 1 Axes>"
      ]
     },
     "metadata": {},
     "output_type": "display_data"
    }
   ],
   "source": [
    "# Storing the result in a X and Y cordinate\n",
    "x = dt_Final['Parsed Date']\n",
    "y = dt_Final['No of Cases']\n",
    "\n",
    "# Creating a plot \n",
    "fig = plt.figure()\n",
    "ax = fig.add_subplot(111)\n",
    "line, = ax.plot(x, y)\n",
    "\n",
    "# Taking maximum point to annotate the country name\n",
    "ymax = max(y)         \n",
    "xpos = x.index.max()\n",
    "xmax = x[xpos]\n",
    "print(xmax)\n",
    "ax.annotate('US', xy=(xmax, ymax+200000), xytext=(xmax, ymax+200000)\n",
    "            )\n",
    "ax.plot(xmax,ymax,'bo')\n",
    "plt.xlabel('Date')\n",
    "plt.ylabel('Known Cases')\n",
    "plt.title(\"Covid-19 for US\")\n",
    "plt.show()"
   ]
  },
  {
   "cell_type": "markdown",
   "metadata": {},
   "source": [
    "__Interpretation:-__ For US, the COVID cases remain negligible starting from 1/15 to 2/29. We see an increment in cases from 2/19 to 3/15 and from 3/15 onwards, we can see an exponential increase of COVID cases. "
   ]
  },
  {
   "cell_type": "markdown",
   "metadata": {},
   "source": [
    "## Comparing Countries\n",
    "\n",
    "One of the classic displays in the news is the comparison between countries.  Select a number of countries and plot their data on the same graph to reproduce this visualisation. Suitable countries would be those who have significant outbreaks - China, USA, Italy, UK, Australia. "
   ]
  },
  {
   "cell_type": "code",
   "execution_count": 9,
   "metadata": {},
   "outputs": [
    {
     "data": {
      "text/html": [
       "<div>\n",
       "<style scoped>\n",
       "    .dataframe tbody tr th:only-of-type {\n",
       "        vertical-align: middle;\n",
       "    }\n",
       "\n",
       "    .dataframe tbody tr th {\n",
       "        vertical-align: top;\n",
       "    }\n",
       "\n",
       "    .dataframe thead th {\n",
       "        text-align: right;\n",
       "    }\n",
       "</style>\n",
       "<table border=\"1\" class=\"dataframe\">\n",
       "  <thead>\n",
       "    <tr style=\"text-align: right;\">\n",
       "      <th></th>\n",
       "      <th>Country/Region</th>\n",
       "      <th>1/22/20</th>\n",
       "      <th>1/23/20</th>\n",
       "      <th>1/24/20</th>\n",
       "      <th>1/25/20</th>\n",
       "      <th>1/26/20</th>\n",
       "      <th>1/27/20</th>\n",
       "      <th>1/28/20</th>\n",
       "      <th>1/29/20</th>\n",
       "      <th>1/30/20</th>\n",
       "      <th>...</th>\n",
       "      <th>5/14/20</th>\n",
       "      <th>5/15/20</th>\n",
       "      <th>5/16/20</th>\n",
       "      <th>5/17/20</th>\n",
       "      <th>5/18/20</th>\n",
       "      <th>5/19/20</th>\n",
       "      <th>5/20/20</th>\n",
       "      <th>5/21/20</th>\n",
       "      <th>5/22/20</th>\n",
       "      <th>5/23/20</th>\n",
       "    </tr>\n",
       "  </thead>\n",
       "  <tbody>\n",
       "    <tr>\n",
       "      <th>8</th>\n",
       "      <td>Australia</td>\n",
       "      <td>0</td>\n",
       "      <td>0</td>\n",
       "      <td>0</td>\n",
       "      <td>0</td>\n",
       "      <td>4</td>\n",
       "      <td>5</td>\n",
       "      <td>5</td>\n",
       "      <td>6</td>\n",
       "      <td>9</td>\n",
       "      <td>...</td>\n",
       "      <td>7019</td>\n",
       "      <td>7035</td>\n",
       "      <td>7044</td>\n",
       "      <td>7054</td>\n",
       "      <td>7068</td>\n",
       "      <td>7072</td>\n",
       "      <td>7081</td>\n",
       "      <td>7095</td>\n",
       "      <td>7099</td>\n",
       "      <td>7114</td>\n",
       "    </tr>\n",
       "    <tr>\n",
       "      <th>36</th>\n",
       "      <td>China</td>\n",
       "      <td>548</td>\n",
       "      <td>643</td>\n",
       "      <td>920</td>\n",
       "      <td>1406</td>\n",
       "      <td>2075</td>\n",
       "      <td>2877</td>\n",
       "      <td>5509</td>\n",
       "      <td>6087</td>\n",
       "      <td>8141</td>\n",
       "      <td>...</td>\n",
       "      <td>84029</td>\n",
       "      <td>84038</td>\n",
       "      <td>84044</td>\n",
       "      <td>84054</td>\n",
       "      <td>84063</td>\n",
       "      <td>84063</td>\n",
       "      <td>84063</td>\n",
       "      <td>84063</td>\n",
       "      <td>84081</td>\n",
       "      <td>84084</td>\n",
       "    </tr>\n",
       "    <tr>\n",
       "      <th>85</th>\n",
       "      <td>Italy</td>\n",
       "      <td>0</td>\n",
       "      <td>0</td>\n",
       "      <td>0</td>\n",
       "      <td>0</td>\n",
       "      <td>0</td>\n",
       "      <td>0</td>\n",
       "      <td>0</td>\n",
       "      <td>0</td>\n",
       "      <td>0</td>\n",
       "      <td>...</td>\n",
       "      <td>223096</td>\n",
       "      <td>223885</td>\n",
       "      <td>224760</td>\n",
       "      <td>225435</td>\n",
       "      <td>225886</td>\n",
       "      <td>226699</td>\n",
       "      <td>227364</td>\n",
       "      <td>228006</td>\n",
       "      <td>228658</td>\n",
       "      <td>229327</td>\n",
       "    </tr>\n",
       "    <tr>\n",
       "      <th>174</th>\n",
       "      <td>US</td>\n",
       "      <td>1</td>\n",
       "      <td>1</td>\n",
       "      <td>2</td>\n",
       "      <td>2</td>\n",
       "      <td>5</td>\n",
       "      <td>5</td>\n",
       "      <td>5</td>\n",
       "      <td>5</td>\n",
       "      <td>5</td>\n",
       "      <td>...</td>\n",
       "      <td>1417774</td>\n",
       "      <td>1442824</td>\n",
       "      <td>1467820</td>\n",
       "      <td>1486757</td>\n",
       "      <td>1508308</td>\n",
       "      <td>1528568</td>\n",
       "      <td>1551853</td>\n",
       "      <td>1577147</td>\n",
       "      <td>1600937</td>\n",
       "      <td>1622612</td>\n",
       "    </tr>\n",
       "  </tbody>\n",
       "</table>\n",
       "<p>4 rows × 124 columns</p>\n",
       "</div>"
      ],
      "text/plain": [
       "    Country/Region  1/22/20  1/23/20  1/24/20  1/25/20  1/26/20  1/27/20  \\\n",
       "8        Australia        0        0        0        0        4        5   \n",
       "36           China      548      643      920     1406     2075     2877   \n",
       "85           Italy        0        0        0        0        0        0   \n",
       "174             US        1        1        2        2        5        5   \n",
       "\n",
       "     1/28/20  1/29/20  1/30/20  ...  5/14/20  5/15/20  5/16/20  5/17/20  \\\n",
       "8          5        6        9  ...     7019     7035     7044     7054   \n",
       "36      5509     6087     8141  ...    84029    84038    84044    84054   \n",
       "85         0        0        0  ...   223096   223885   224760   225435   \n",
       "174        5        5        5  ...  1417774  1442824  1467820  1486757   \n",
       "\n",
       "     5/18/20  5/19/20  5/20/20  5/21/20  5/22/20  5/23/20  \n",
       "8       7068     7072     7081     7095     7099     7114  \n",
       "36     84063    84063    84063    84063    84081    84084  \n",
       "85    225886   226699   227364   228006   228658   229327  \n",
       "174  1508308  1528568  1551853  1577147  1600937  1622612  \n",
       "\n",
       "[4 rows x 124 columns]"
      ]
     },
     "execution_count": 9,
     "metadata": {},
     "output_type": "execute_result"
    }
   ],
   "source": [
    "# Using loc to look for countries like 'US', 'China', 'Australia' and 'Italy'\n",
    "CovidSpecificCountries = GroupedData_Clean.loc[GroupedData_Clean['Country/Region'].isin(['US','China','Australia','Italy'])]\n",
    "CovidSpecificCountries"
   ]
  },
  {
   "cell_type": "code",
   "execution_count": 10,
   "metadata": {},
   "outputs": [
    {
     "data": {
      "text/html": [
       "<div>\n",
       "<style scoped>\n",
       "    .dataframe tbody tr th:only-of-type {\n",
       "        vertical-align: middle;\n",
       "    }\n",
       "\n",
       "    .dataframe tbody tr th {\n",
       "        vertical-align: top;\n",
       "    }\n",
       "\n",
       "    .dataframe thead th {\n",
       "        text-align: right;\n",
       "    }\n",
       "</style>\n",
       "<table border=\"1\" class=\"dataframe\">\n",
       "  <thead>\n",
       "    <tr style=\"text-align: right;\">\n",
       "      <th></th>\n",
       "      <th>Country/Region</th>\n",
       "      <th>variable</th>\n",
       "      <th>value</th>\n",
       "    </tr>\n",
       "  </thead>\n",
       "  <tbody>\n",
       "    <tr>\n",
       "      <th>0</th>\n",
       "      <td>Australia</td>\n",
       "      <td>1/22/20</td>\n",
       "      <td>0</td>\n",
       "    </tr>\n",
       "    <tr>\n",
       "      <th>1</th>\n",
       "      <td>China</td>\n",
       "      <td>1/22/20</td>\n",
       "      <td>548</td>\n",
       "    </tr>\n",
       "    <tr>\n",
       "      <th>2</th>\n",
       "      <td>Italy</td>\n",
       "      <td>1/22/20</td>\n",
       "      <td>0</td>\n",
       "    </tr>\n",
       "    <tr>\n",
       "      <th>3</th>\n",
       "      <td>US</td>\n",
       "      <td>1/22/20</td>\n",
       "      <td>1</td>\n",
       "    </tr>\n",
       "    <tr>\n",
       "      <th>4</th>\n",
       "      <td>Australia</td>\n",
       "      <td>1/23/20</td>\n",
       "      <td>0</td>\n",
       "    </tr>\n",
       "    <tr>\n",
       "      <th>...</th>\n",
       "      <td>...</td>\n",
       "      <td>...</td>\n",
       "      <td>...</td>\n",
       "    </tr>\n",
       "    <tr>\n",
       "      <th>487</th>\n",
       "      <td>US</td>\n",
       "      <td>5/22/20</td>\n",
       "      <td>1600937</td>\n",
       "    </tr>\n",
       "    <tr>\n",
       "      <th>488</th>\n",
       "      <td>Australia</td>\n",
       "      <td>5/23/20</td>\n",
       "      <td>7114</td>\n",
       "    </tr>\n",
       "    <tr>\n",
       "      <th>489</th>\n",
       "      <td>China</td>\n",
       "      <td>5/23/20</td>\n",
       "      <td>84084</td>\n",
       "    </tr>\n",
       "    <tr>\n",
       "      <th>490</th>\n",
       "      <td>Italy</td>\n",
       "      <td>5/23/20</td>\n",
       "      <td>229327</td>\n",
       "    </tr>\n",
       "    <tr>\n",
       "      <th>491</th>\n",
       "      <td>US</td>\n",
       "      <td>5/23/20</td>\n",
       "      <td>1622612</td>\n",
       "    </tr>\n",
       "  </tbody>\n",
       "</table>\n",
       "<p>492 rows × 3 columns</p>\n",
       "</div>"
      ],
      "text/plain": [
       "    Country/Region variable    value\n",
       "0        Australia  1/22/20        0\n",
       "1            China  1/22/20      548\n",
       "2            Italy  1/22/20        0\n",
       "3               US  1/22/20        1\n",
       "4        Australia  1/23/20        0\n",
       "..             ...      ...      ...\n",
       "487             US  5/22/20  1600937\n",
       "488      Australia  5/23/20     7114\n",
       "489          China  5/23/20    84084\n",
       "490          Italy  5/23/20   229327\n",
       "491             US  5/23/20  1622612\n",
       "\n",
       "[492 rows x 3 columns]"
      ]
     },
     "execution_count": 10,
     "metadata": {},
     "output_type": "execute_result"
    }
   ],
   "source": [
    "# Using Melt to group data based on countries and perform pivort\n",
    "CovidSpecificCountries_Melt = CovidSpecificCountries.melt(id_vars = ['Country/Region'])\n",
    "CovidSpecificCountries_Melt"
   ]
  },
  {
   "cell_type": "code",
   "execution_count": 11,
   "metadata": {},
   "outputs": [
    {
     "data": {
      "text/html": [
       "<div>\n",
       "<style scoped>\n",
       "    .dataframe tbody tr th:only-of-type {\n",
       "        vertical-align: middle;\n",
       "    }\n",
       "\n",
       "    .dataframe tbody tr th {\n",
       "        vertical-align: top;\n",
       "    }\n",
       "\n",
       "    .dataframe thead th {\n",
       "        text-align: right;\n",
       "    }\n",
       "</style>\n",
       "<table border=\"1\" class=\"dataframe\">\n",
       "  <thead>\n",
       "    <tr style=\"text-align: right;\">\n",
       "      <th></th>\n",
       "      <th>Known Cases</th>\n",
       "      <th>Country/Region</th>\n",
       "      <th>Parsed Date</th>\n",
       "    </tr>\n",
       "  </thead>\n",
       "  <tbody>\n",
       "    <tr>\n",
       "      <th>5</th>\n",
       "      <td>86513</td>\n",
       "      <td>Australia</td>\n",
       "      <td>3/31</td>\n",
       "    </tr>\n",
       "    <tr>\n",
       "      <th>33</th>\n",
       "      <td>12652195</td>\n",
       "      <td>US</td>\n",
       "      <td>4/15</td>\n",
       "    </tr>\n",
       "    <tr>\n",
       "      <th>24</th>\n",
       "      <td>2794442</td>\n",
       "      <td>Italy</td>\n",
       "      <td>4/15</td>\n",
       "    </tr>\n",
       "    <tr>\n",
       "      <th>6</th>\n",
       "      <td>99486</td>\n",
       "      <td>Australia</td>\n",
       "      <td>4/15</td>\n",
       "    </tr>\n",
       "    <tr>\n",
       "      <th>15</th>\n",
       "      <td>1257055</td>\n",
       "      <td>China</td>\n",
       "      <td>4/15</td>\n",
       "    </tr>\n",
       "  </tbody>\n",
       "</table>\n",
       "</div>"
      ],
      "text/plain": [
       "    Known Cases Country/Region Parsed Date\n",
       "5         86513      Australia        3/31\n",
       "33     12652195             US        4/15\n",
       "24      2794442          Italy        4/15\n",
       "6         99486      Australia        4/15\n",
       "15      1257055          China        4/15"
      ]
     },
     "execution_count": 11,
     "metadata": {},
     "output_type": "execute_result"
    }
   ],
   "source": [
    "#Converting to date and renaming columns\n",
    "CovidSpecificCountries_Melt['Date'] = pd.to_datetime(CovidSpecificCountries_Melt.variable)\n",
    "CovidSpecificCountries_Cleaned = CovidSpecificCountries_Melt[['Country/Region','Date', 'value']]\n",
    "\n",
    "# Grouping data by taking semi-monthly dates and parsing date field\n",
    "dt1 = CovidSpecificCountries_Cleaned.groupby(['Country/Region', pd.Grouper(key='Date', freq='SM')])[['value','Country/Region']].sum().reset_index().sort_values('Date')\n",
    "dt1['Parsed Dates'] = dt1['Date'].astype(str)\n",
    "dt1['Parsed Date'] =  dt1['Parsed Dates'].str[6:]\n",
    "dt1['Parsed Date'] = dt1['Parsed Date'].replace({'-':'/'}, regex=True)\n",
    "\n",
    "# Choosing specific fields and dropping data from 4/30 so that we have consistent result\n",
    "CovidSpecificCountries_Final = dt1[['value', 'Country/Region','Parsed Date']]\n",
    "CovidSpecificCountries_Final.columns = ['Known Cases', 'Country/Region','Parsed Date']\n",
    "CovidSpecificCountries_Final_Cleaned = CovidSpecificCountries_Final[CovidSpecificCountries_Final['Parsed Date'] >= '4/30' ].index\n",
    "CovidSpecificCountries_Final.drop(CovidSpecificCountries_Final_Cleaned , inplace=True)\n",
    "CovidSpecificCountries_Final.tail()"
   ]
  },
  {
   "cell_type": "code",
   "execution_count": 12,
   "metadata": {},
   "outputs": [
    {
     "data": {
      "image/png": "[encoded data removed]",
      "text/plain": [
       "<Figure size 720x576 with 1 Axes>"
      ]
     },
     "metadata": {},
     "output_type": "display_data"
    }
   ],
   "source": [
    "# Taking maximum value to show the countries in the plot\n",
    "CovidSpecificCountries_Max = CovidSpecificCountries_Final.groupby(['Country/Region'], sort=False)[['Known Cases','Parsed Date']].max()\n",
    "CovidSpecificCountries_Max_Reset = CovidSpecificCountries_Max.reset_index()\n",
    "CovidSpecificCountries_Max_Reset\n",
    "\n",
    "#Choosing colors of specific countries\n",
    "colors = {'Australia':'red', 'China':'green', 'Italy':'olive', 'US':'blue'}\n",
    "\n",
    "# Using subplots\n",
    "fig, ax = plt.subplots(figsize=(10,8))\n",
    "line, = ax.plot(x, y)\n",
    "for label, df in CovidSpecificCountries_Final.groupby('Country/Region'):\n",
    "    df.plot(kind='line', x = \"Parsed Date\", y = \"Known Cases\", ax=ax,label=label, color=colors[label])\n",
    "colors1 = {'Australia':'ro', 'China':'go', 'Italy':'yo', 'US':'bo'}\n",
    "\n",
    "# To add country details in the graph\n",
    "for Country,value,date in  zip(CovidSpecificCountries_Max_Reset['Country/Region'], CovidSpecificCountries_Max_Reset['Known Cases'], CovidSpecificCountries_Max_Reset['Parsed Date']):\n",
    "        ymax = value         \n",
    "        xmax = date\n",
    "        ax.annotate(Country, xy=(xmax, ymax+200000), xytext=(xmax, ymax+200000))\n",
    "        ax.plot(xmax,ymax,colors1[Country])\n",
    "        \n",
    "# Adding labels to the graph        \n",
    "plt.xlabel('Date')\n",
    "plt.ylabel('Known Cases')\n",
    "plt.title('COVID-19 trend')\n",
    "plt.show()\n"
   ]
  },
  {
   "cell_type": "markdown",
   "metadata": {},
   "source": [
    "__Interpretation__:- \n",
    "1. For US, the COVID cases remain negligible starting from 1/15 to 2/29. We see an increment in cases from 2/19 to 3/15 and from 3/15 onwards, we can see an exponential increase of COVID cases. \n",
    "2. For China, we see increment in COVID cases starting from 1/15 to 2/15. From 2/15 onwards, the cases remain stable.\n",
    "3. For Italy, we see negligible cases starting from 1/12 to 2/19. However, we see increment in the number of cases starting 2/29 to 4/15.\n",
    "4. For Australia, we see negligible cases starting from 1/15 to 4/15.\n"
   ]
  },
  {
   "cell_type": "markdown",
   "metadata": {},
   "source": [
    "__A very useful visualisation shows the data for different countries aligned from the time that they have 100 confirmed cases.  To create this figure, you need to take only the part of each time series after the value is greater than or equal to 100 and then plot this starting at 0 on the x-axis.  This is a bit more involved but will allow you to explore Pandas a bit more.__"
   ]
  },
  {
   "cell_type": "code",
   "execution_count": 13,
   "metadata": {},
   "outputs": [],
   "source": [
    "# Creating a function to calculate time series based on country name\n",
    "\n",
    "def CaltimeSeries(countryname):\n",
    "    li = []\n",
    "    GroupedData_Melt =  GroupedData_Clean.melt(id_vars = ['Country/Region'])\n",
    "    GroupedData_CountryName = GroupedData_Melt[GroupedData_Melt[\"Country/Region\"] == countryname]\n",
    "    GroupedData_CountryName_gtr100 = GroupedData_CountryName[GroupedData_CountryName[\"value\"]>100]\n",
    "    GroupedData_CountryName_gtr100['Date'] = pd.to_datetime(GroupedData_CountryName_gtr100.variable)\n",
    "    a_df=np.unique(GroupedData_CountryName_gtr100['Date'], axis=0)\n",
    "    UniqDate= pd.DataFrame(a_df)\n",
    "    UniqDate['New_ID'] = UniqDate.index\n",
    "    UniqDate20days = UniqDate.groupby([pd.Grouper(key=0, freq='20D')])['New_ID'].min().reset_index().sort_values(0)\n",
    "    CountryGrp = GroupedData_CountryName_gtr100.groupby(['Country/Region', pd.Grouper(key='Date', freq='20D')])[['value','Country/Region']].sum().reset_index().sort_values('Date')\n",
    "    MergeFinal= pd.merge(CountryGrp, UniqDate20days, how='left', left_on='Date', right_on=0)\n",
    "    dt_FinalCOVID = MergeFinal[MergeFinal[0]> '2020-04-12' ].index\n",
    "    MergeFinal.drop(dt_FinalCOVID , inplace=True)\n",
    "    FinalMerge = MergeFinal[[\"Country/Region\",\"Date\",\"value\",\"New_ID\"]]\n",
    "    FinalMerge.columns = [\"Country/Region\",\"Date\",\"Know Cases\",\"Days since 100th case\"]\n",
    "    li.append(FinalMerge)\n",
    "    frame = pd.concat(li, axis=0, ignore_index=True)\n",
    "    return frame\n",
    " "
   ]
  },
  {
   "cell_type": "code",
   "execution_count": 15,
   "metadata": {},
   "outputs": [],
   "source": [
    "# Calculating time series of specific countries\n",
    "US = CaltimeSeries('US')\n",
    "Australia = CaltimeSeries('Australia')\n",
    "Italy = CaltimeSeries('Italy')\n",
    "China = CaltimeSeries('China')\n",
    "UK = CaltimeSeries('United Kingdom')\n",
    "Taiwan = CaltimeSeries('Taiwan*')"
   ]
  },
  {
   "cell_type": "code",
   "execution_count": 16,
   "metadata": {},
   "outputs": [],
   "source": [
    "result = US.append([Australia,Italy,China,UK,Taiwan])"
   ]
  },
  {
   "cell_type": "code",
   "execution_count": 17,
   "metadata": {},
   "outputs": [
    {
     "data": {
      "text/html": [
       "<div>\n",
       "<style scoped>\n",
       "    .dataframe tbody tr th:only-of-type {\n",
       "        vertical-align: middle;\n",
       "    }\n",
       "\n",
       "    .dataframe tbody tr th {\n",
       "        vertical-align: top;\n",
       "    }\n",
       "\n",
       "    .dataframe thead th {\n",
       "        text-align: right;\n",
       "    }\n",
       "</style>\n",
       "<table border=\"1\" class=\"dataframe\">\n",
       "  <thead>\n",
       "    <tr style=\"text-align: right;\">\n",
       "      <th></th>\n",
       "      <th>Country/Region</th>\n",
       "      <th>Date</th>\n",
       "      <th>Know Cases</th>\n",
       "      <th>Days since 100th case</th>\n",
       "    </tr>\n",
       "  </thead>\n",
       "  <tbody>\n",
       "    <tr>\n",
       "      <th>0</th>\n",
       "      <td>US</td>\n",
       "      <td>2020-03-03</td>\n",
       "      <td>125404</td>\n",
       "      <td>0</td>\n",
       "    </tr>\n",
       "    <tr>\n",
       "      <th>1</th>\n",
       "      <td>US</td>\n",
       "      <td>2020-03-23</td>\n",
       "      <td>5020722</td>\n",
       "      <td>20</td>\n",
       "    </tr>\n",
       "    <tr>\n",
       "      <th>2</th>\n",
       "      <td>US</td>\n",
       "      <td>2020-04-12</td>\n",
       "      <td>16568687</td>\n",
       "      <td>40</td>\n",
       "    </tr>\n",
       "    <tr>\n",
       "      <th>0</th>\n",
       "      <td>Australia</td>\n",
       "      <td>2020-03-10</td>\n",
       "      <td>26266</td>\n",
       "      <td>0</td>\n",
       "    </tr>\n",
       "    <tr>\n",
       "      <th>1</th>\n",
       "      <td>Australia</td>\n",
       "      <td>2020-03-30</td>\n",
       "      <td>116866</td>\n",
       "      <td>20</td>\n",
       "    </tr>\n",
       "    <tr>\n",
       "      <th>0</th>\n",
       "      <td>Italy</td>\n",
       "      <td>2020-02-23</td>\n",
       "      <td>99459</td>\n",
       "      <td>0</td>\n",
       "    </tr>\n",
       "    <tr>\n",
       "      <th>1</th>\n",
       "      <td>Italy</td>\n",
       "      <td>2020-03-14</td>\n",
       "      <td>1339959</td>\n",
       "      <td>20</td>\n",
       "    </tr>\n",
       "    <tr>\n",
       "      <th>2</th>\n",
       "      <td>Italy</td>\n",
       "      <td>2020-04-03</td>\n",
       "      <td>3116742</td>\n",
       "      <td>40</td>\n",
       "    </tr>\n",
       "    <tr>\n",
       "      <th>0</th>\n",
       "      <td>China</td>\n",
       "      <td>2020-01-22</td>\n",
       "      <td>321086</td>\n",
       "      <td>0</td>\n",
       "    </tr>\n",
       "    <tr>\n",
       "      <th>1</th>\n",
       "      <td>China</td>\n",
       "      <td>2020-02-11</td>\n",
       "      <td>1430215</td>\n",
       "      <td>20</td>\n",
       "    </tr>\n",
       "    <tr>\n",
       "      <th>2</th>\n",
       "      <td>China</td>\n",
       "      <td>2020-03-02</td>\n",
       "      <td>1617032</td>\n",
       "      <td>40</td>\n",
       "    </tr>\n",
       "    <tr>\n",
       "      <th>3</th>\n",
       "      <td>China</td>\n",
       "      <td>2020-03-22</td>\n",
       "      <td>1644927</td>\n",
       "      <td>60</td>\n",
       "    </tr>\n",
       "    <tr>\n",
       "      <th>4</th>\n",
       "      <td>China</td>\n",
       "      <td>2020-04-11</td>\n",
       "      <td>1673678</td>\n",
       "      <td>80</td>\n",
       "    </tr>\n",
       "    <tr>\n",
       "      <th>0</th>\n",
       "      <td>United Kingdom</td>\n",
       "      <td>2020-03-05</td>\n",
       "      <td>44061</td>\n",
       "      <td>0</td>\n",
       "    </tr>\n",
       "    <tr>\n",
       "      <th>1</th>\n",
       "      <td>United Kingdom</td>\n",
       "      <td>2020-03-25</td>\n",
       "      <td>879692</td>\n",
       "      <td>20</td>\n",
       "    </tr>\n",
       "    <tr>\n",
       "      <th>0</th>\n",
       "      <td>Taiwan*</td>\n",
       "      <td>2020-03-19</td>\n",
       "      <td>5421</td>\n",
       "      <td>0</td>\n",
       "    </tr>\n",
       "    <tr>\n",
       "      <th>1</th>\n",
       "      <td>Taiwan*</td>\n",
       "      <td>2020-04-08</td>\n",
       "      <td>8118</td>\n",
       "      <td>20</td>\n",
       "    </tr>\n",
       "  </tbody>\n",
       "</table>\n",
       "</div>"
      ],
      "text/plain": [
       "   Country/Region       Date  Know Cases  Days since 100th case\n",
       "0              US 2020-03-03      125404                      0\n",
       "1              US 2020-03-23     5020722                     20\n",
       "2              US 2020-04-12    16568687                     40\n",
       "0       Australia 2020-03-10       26266                      0\n",
       "1       Australia 2020-03-30      116866                     20\n",
       "0           Italy 2020-02-23       99459                      0\n",
       "1           Italy 2020-03-14     1339959                     20\n",
       "2           Italy 2020-04-03     3116742                     40\n",
       "0           China 2020-01-22      321086                      0\n",
       "1           China 2020-02-11     1430215                     20\n",
       "2           China 2020-03-02     1617032                     40\n",
       "3           China 2020-03-22     1644927                     60\n",
       "4           China 2020-04-11     1673678                     80\n",
       "0  United Kingdom 2020-03-05       44061                      0\n",
       "1  United Kingdom 2020-03-25      879692                     20\n",
       "0         Taiwan* 2020-03-19        5421                      0\n",
       "1         Taiwan* 2020-04-08        8118                     20"
      ]
     },
     "execution_count": 17,
     "metadata": {},
     "output_type": "execute_result"
    }
   ],
   "source": [
    "result"
   ]
  },
  {
   "cell_type": "code",
   "execution_count": 18,
   "metadata": {},
   "outputs": [
    {
     "data": {
      "image/png": "[encoded data removed]",
      "text/plain": [
       "<Figure size 720x576 with 1 Axes>"
      ]
     },
     "metadata": {},
     "output_type": "display_data"
    }
   ],
   "source": [
    "# Taking maximum value to add annotation based on each countries\n",
    "SpecificCountiriesMax = result.groupby(['Country/Region'], sort=False)[['Know Cases','Days since 100th case']].max()\n",
    "SpecificCountiriesMaxResult = SpecificCountiriesMax.reset_index()\n",
    "SpecificCountiriesMaxResult\n",
    "\n",
    "#Using subplots \n",
    "fig, ax = plt.subplots(figsize=(10,8))\n",
    "ax.plot( 'Days since 100th case', 'Know Cases', data=US, marker='.', markerfacecolor='blue', markersize=8, color='blue', linewidth=2,label=\"US\")\n",
    "ax.plot( 'Days since 100th case', 'Know Cases', data=Australia, marker='.', color='red', markersize=8, linewidth=2,label=\"Australia\")\n",
    "ax.plot( 'Days since 100th case', 'Know Cases', data=Italy, marker='.', color='#ffb3ff', markersize=8,linewidth=2,label=\"Italy\")\n",
    "ax.plot( 'Days since 100th case', 'Know Cases', data=China, marker='.', color='green',markersize=8, linewidth=2,label=\"China\")\n",
    "ax.plot( 'Days since 100th case', 'Know Cases', data=UK, marker='.', color='#eafb50',markersize=8, linewidth=2,label=\"United Kingdom\")\n",
    "ax.plot( 'Days since 100th case', 'Know Cases', data=Taiwan, marker='.', color='#f7bb5f', markersize=8,linewidth=2,label=\"Taiwan\")\n",
    "\n",
    "# Using colors to distinguish countries\n",
    "colors = {'Australia':'ro', 'China':'go', 'Italy':'yo', 'US':'bo','United Kingdom':'yo','Taiwan*':'yo'}\n",
    "\n",
    "# Using loop to show different countries \n",
    "for Country,Cases,Days in  zip(SpecificCountiriesMaxResult['Country/Region'], SpecificCountiriesMaxResult['Know Cases'], SpecificCountiriesMaxResult['Days since 100th case']):\n",
    "        ymax = Cases         \n",
    "        xmax = Days\n",
    "        ax.annotate(Country, xy=(xmax, ymax+200000), xytext=(xmax, ymax+200000))\n",
    "        ax.plot(xmax,ymax,colors[Country])\n",
    "\n",
    "plt.xlabel('Days since 100th case')\n",
    "plt.ylabel('Cumulative Known Cases since 100th case')\n",
    "plt.title('COVID-19 trend')\n",
    "plt.show()"
   ]
  },
  {
   "cell_type": "markdown",
   "metadata": {},
   "source": [
    "__Interpretation:-__ The plot shows data for different countries aligned from the time they have 100 confirmed cases. For US, we can how rapidly the virus was spread in next 40 days. However, for china, we see increase in number of cases for first 20 days, but later the cases remain stable. For Italy, initially for first 20 days, the number of cases were in line with china. However, after 20 days, we see Italy overtaking china. The COVID cases in United Kingdom is slightly below the china. It seems difficult to compare early days of each outbreak as they are compressed down the bottom of the chart. To aid with this, we need to use a logarithmic scale with is shown towards the end of this portfolio."
   ]
  },
  {
   "cell_type": "markdown",
   "metadata": {},
   "source": [
    "## Normalisation by Population\n",
    "\n",
    "The raw data includes the overall count of cases in each country. Clearly small countries will have smaller overall values than large countries.  It would be interesting to see whether the number of cases in China and the US was more per-capita than those in other countries and find which country has the highest number as a proportion of the population. (A good way to measure this is the number of cases per million people in the population. If a country has 25 cases and a population of 2.5 million they would have 10 cases per million).\n",
    "\n",
    "To answer these questions we need population data. I'll present two possible sources of data (there are more of course) [datahub.io](https://datahub.io/JohnSnowLabs/population-figures-by-country) has data per country up to 2016 in a handy CSV format. The [United Nations Population Dynamics page](https://population.un.org/wpp/Download/Standard/CSV/) has data that predicts populations up to 2100 in CSV format.  Use one of these data sets to compute the number of confirmed cases for each country per million population.   Create a new plot with this data. Create a plot to compare the most recent day's data - which country has the most cases per million right now? \n",
    "\n",
    "_Note, to use the population data you'll have to make sure that the country names match up in the different data sets. There's no magic way to do this, either you edit one of the datasets or write code to modify the data once you read it in.  The second of these is better because it makes it easy for someone else to repeat your analysis._"
   ]
  },
  {
   "cell_type": "code",
   "execution_count": 20,
   "metadata": {},
   "outputs": [
    {
     "data": {
      "text/html": [
       "<div>\n",
       "<style scoped>\n",
       "    .dataframe tbody tr th:only-of-type {\n",
       "        vertical-align: middle;\n",
       "    }\n",
       "\n",
       "    .dataframe tbody tr th {\n",
       "        vertical-align: top;\n",
       "    }\n",
       "\n",
       "    .dataframe thead th {\n",
       "        text-align: right;\n",
       "    }\n",
       "</style>\n",
       "<table border=\"1\" class=\"dataframe\">\n",
       "  <thead>\n",
       "    <tr style=\"text-align: right;\">\n",
       "      <th></th>\n",
       "      <th>Country/Region</th>\n",
       "      <th>Cases Per Million</th>\n",
       "      <th>Date</th>\n",
       "      <th>Cases</th>\n",
       "    </tr>\n",
       "  </thead>\n",
       "  <tbody>\n",
       "    <tr>\n",
       "      <th>100</th>\n",
       "      <td>Afghanistan</td>\n",
       "      <td>67.37</td>\n",
       "      <td>2020-05-01</td>\n",
       "      <td>2335</td>\n",
       "    </tr>\n",
       "    <tr>\n",
       "      <th>101</th>\n",
       "      <td>Afghanistan</td>\n",
       "      <td>71.23</td>\n",
       "      <td>2020-05-02</td>\n",
       "      <td>2469</td>\n",
       "    </tr>\n",
       "    <tr>\n",
       "      <th>102</th>\n",
       "      <td>Afghanistan</td>\n",
       "      <td>78.02</td>\n",
       "      <td>2020-05-03</td>\n",
       "      <td>2704</td>\n",
       "    </tr>\n",
       "    <tr>\n",
       "      <th>103</th>\n",
       "      <td>Afghanistan</td>\n",
       "      <td>83.50</td>\n",
       "      <td>2020-05-04</td>\n",
       "      <td>2894</td>\n",
       "    </tr>\n",
       "    <tr>\n",
       "      <th>104</th>\n",
       "      <td>Afghanistan</td>\n",
       "      <td>93.02</td>\n",
       "      <td>2020-05-05</td>\n",
       "      <td>3224</td>\n",
       "    </tr>\n",
       "    <tr>\n",
       "      <th>105</th>\n",
       "      <td>Afghanistan</td>\n",
       "      <td>97.86</td>\n",
       "      <td>2020-05-06</td>\n",
       "      <td>3392</td>\n",
       "    </tr>\n",
       "    <tr>\n",
       "      <th>106</th>\n",
       "      <td>Afghanistan</td>\n",
       "      <td>102.80</td>\n",
       "      <td>2020-05-07</td>\n",
       "      <td>3563</td>\n",
       "    </tr>\n",
       "    <tr>\n",
       "      <th>107</th>\n",
       "      <td>Afghanistan</td>\n",
       "      <td>109.00</td>\n",
       "      <td>2020-05-08</td>\n",
       "      <td>3778</td>\n",
       "    </tr>\n",
       "    <tr>\n",
       "      <th>108</th>\n",
       "      <td>Afghanistan</td>\n",
       "      <td>116.36</td>\n",
       "      <td>2020-05-09</td>\n",
       "      <td>4033</td>\n",
       "    </tr>\n",
       "    <tr>\n",
       "      <th>109</th>\n",
       "      <td>Afghanistan</td>\n",
       "      <td>127.01</td>\n",
       "      <td>2020-05-10</td>\n",
       "      <td>4402</td>\n",
       "    </tr>\n",
       "    <tr>\n",
       "      <th>110</th>\n",
       "      <td>Afghanistan</td>\n",
       "      <td>135.23</td>\n",
       "      <td>2020-05-11</td>\n",
       "      <td>4687</td>\n",
       "    </tr>\n",
       "    <tr>\n",
       "      <th>111</th>\n",
       "      <td>Afghanistan</td>\n",
       "      <td>143.19</td>\n",
       "      <td>2020-05-12</td>\n",
       "      <td>4963</td>\n",
       "    </tr>\n",
       "    <tr>\n",
       "      <th>112</th>\n",
       "      <td>Afghanistan</td>\n",
       "      <td>150.78</td>\n",
       "      <td>2020-05-13</td>\n",
       "      <td>5226</td>\n",
       "    </tr>\n",
       "    <tr>\n",
       "      <th>113</th>\n",
       "      <td>Afghanistan</td>\n",
       "      <td>162.69</td>\n",
       "      <td>2020-05-14</td>\n",
       "      <td>5639</td>\n",
       "    </tr>\n",
       "    <tr>\n",
       "      <th>114</th>\n",
       "      <td>Afghanistan</td>\n",
       "      <td>174.64</td>\n",
       "      <td>2020-05-15</td>\n",
       "      <td>6053</td>\n",
       "    </tr>\n",
       "    <tr>\n",
       "      <th>115</th>\n",
       "      <td>Afghanistan</td>\n",
       "      <td>184.71</td>\n",
       "      <td>2020-05-16</td>\n",
       "      <td>6402</td>\n",
       "    </tr>\n",
       "    <tr>\n",
       "      <th>116</th>\n",
       "      <td>Afghanistan</td>\n",
       "      <td>192.27</td>\n",
       "      <td>2020-05-17</td>\n",
       "      <td>6664</td>\n",
       "    </tr>\n",
       "    <tr>\n",
       "      <th>117</th>\n",
       "      <td>Afghanistan</td>\n",
       "      <td>204.04</td>\n",
       "      <td>2020-05-18</td>\n",
       "      <td>7072</td>\n",
       "    </tr>\n",
       "    <tr>\n",
       "      <th>118</th>\n",
       "      <td>Afghanistan</td>\n",
       "      <td>220.80</td>\n",
       "      <td>2020-05-19</td>\n",
       "      <td>7653</td>\n",
       "    </tr>\n",
       "    <tr>\n",
       "      <th>119</th>\n",
       "      <td>Afghanistan</td>\n",
       "      <td>235.00</td>\n",
       "      <td>2020-05-20</td>\n",
       "      <td>8145</td>\n",
       "    </tr>\n",
       "  </tbody>\n",
       "</table>\n",
       "</div>"
      ],
      "text/plain": [
       "    Country/Region  Cases Per Million       Date  Cases\n",
       "100    Afghanistan              67.37 2020-05-01   2335\n",
       "101    Afghanistan              71.23 2020-05-02   2469\n",
       "102    Afghanistan              78.02 2020-05-03   2704\n",
       "103    Afghanistan              83.50 2020-05-04   2894\n",
       "104    Afghanistan              93.02 2020-05-05   3224\n",
       "105    Afghanistan              97.86 2020-05-06   3392\n",
       "106    Afghanistan             102.80 2020-05-07   3563\n",
       "107    Afghanistan             109.00 2020-05-08   3778\n",
       "108    Afghanistan             116.36 2020-05-09   4033\n",
       "109    Afghanistan             127.01 2020-05-10   4402\n",
       "110    Afghanistan             135.23 2020-05-11   4687\n",
       "111    Afghanistan             143.19 2020-05-12   4963\n",
       "112    Afghanistan             150.78 2020-05-13   5226\n",
       "113    Afghanistan             162.69 2020-05-14   5639\n",
       "114    Afghanistan             174.64 2020-05-15   6053\n",
       "115    Afghanistan             184.71 2020-05-16   6402\n",
       "116    Afghanistan             192.27 2020-05-17   6664\n",
       "117    Afghanistan             204.04 2020-05-18   7072\n",
       "118    Afghanistan             220.80 2020-05-19   7653\n",
       "119    Afghanistan             235.00 2020-05-20   8145"
      ]
     },
     "execution_count": 20,
     "metadata": {},
     "output_type": "execute_result"
    }
   ],
   "source": [
    "#Applying melt to group and pivot the table\n",
    "CovidNor = GroupedData_Clean.melt(id_vars = ['Country/Region'])\n",
    "\n",
    "# Using lookup table to match country code\n",
    "Lookuptable = pd.read_csv('data/Portfolio2/Country-Code.csv')\n",
    "\n",
    "# Downloading data from datahub.io\n",
    "TotalPop = pd.read_csv('data/Portfolio2/population-figures-by-country.csv')\n",
    "\n",
    "#Merging Covid data with total population\n",
    "CovMergeFinal= pd.merge(CovidNor, Lookuptable, how='left', left_on='Country/Region', right_on='Country/Region')\n",
    "CovMergePopulation = pd.merge(CovMergeFinal, TotalPop, how='left', left_on='Country', right_on='Country_Code')\n",
    "CovMergePopulationClean = CovMergePopulation[['Country/Region','variable','value','Year_2016']]\n",
    "CovMergePopulationClean[\"Population in Million\"] = round(CovMergePopulationClean['Year_2016']/1000000,2)\n",
    "CovMergePopulationClean = CovMergePopulationClean.reset_index()\n",
    "\n",
    "# Removing cases where we have less the 1 million population in order to calculate of cases per million.\n",
    "CovMergePopulationCleangtr1 = CovMergePopulationClean[CovMergePopulationClean[\"Population in Million\"] >=1]\n",
    "CovMergePopulationCleangtr1\n",
    "CovMergePopulationgtr1Clean = CovMergePopulationCleangtr1[['Country/Region','variable','value', 'Population in Million']]\n",
    "CovMergePopulationgtr1Clean.sort_values('Country/Region')\n",
    "CovMergePopulationgtr1Clean.columns = ['Country/Region', 'Date','Cases','Population in Million']\n",
    "CovMergePopulationgtr1Clean['Cases Per Million'] = round(CovMergePopulationgtr1Clean['Cases']/CovMergePopulationgtr1Clean['Population in Million'],2)\n",
    "CovMergePopulationgtr1CleanCases =  CovMergePopulationgtr1Clean.groupby(['Country/Region','Cases Per Million','Date'])['Cases'].sum().to_frame()\n",
    "CovMergePopulationFinal = CovMergePopulationgtr1CleanCases.dropna()\n",
    "CovMergePopulationFinal\n",
    "CovMergePopulationFinalClean =  CovMergePopulationFinal.groupby(['Country/Region','Cases Per Million','Date'])['Cases'].sum().to_frame()\n",
    "CovPopulationFinalClean = CovMergePopulationFinalClean.reset_index()\n",
    "CovPopulationFinalClean['Date'] = pd.to_datetime(CovPopulationFinalClean.Date)\n",
    "CovPopulationFinalClean[100:120]"
   ]
  },
  {
   "cell_type": "code",
   "execution_count": 18,
   "metadata": {},
   "outputs": [
    {
     "data": {
      "text/plain": [
       "<matplotlib.animation.FuncAnimation at 0x12b135bb5c8>"
      ]
     },
     "execution_count": 18,
     "metadata": {},
     "output_type": "execute_result"
    },
    {
     "data": {
      "image/png": "[encoded data removed]",
      "text/plain": [
       "<Figure size 1080x576 with 1 Axes>"
      ]
     },
     "metadata": {},
     "output_type": "display_data"
    }
   ],
   "source": [
    "# Creating a running Bar graph that shows top 10 countries with most cases per million\n",
    "from time import sleep\n",
    "from matplotlib import animation\n",
    "import matplotlib.ticker as ticker\n",
    "\n",
    "# We will be running Bar Graph starting 20200401\n",
    "CovDate = CovPopulationFinalClean[CovPopulationFinalClean['Date'] > '2020-04-01']\n",
    "CovDateFinal = CovDate['Date']\n",
    "CovDateFinalDrop = CovDateFinal.drop_duplicates()\n",
    "CovDatFinal  =CovDateFinalDrop.reset_index()\n",
    "CovDatFinals = CovDatFinal['Date']\n",
    "CovDatFinals \n",
    "\n",
    "\n",
    "#top 10 country having Cases per million population\n",
    "list_countries = ['Qatar', 'Bahrain', 'Singapore', 'Ireland', 'Spain','Belgium','US','Kuwait','United Kingdom','Italy']\n",
    "list_colors = ['#adb0ff', '#ffb3ff', '#90d595', '#e48381', '#aafbff','#f7bb5f','#eafb50','olive','cyan','gray']\n",
    "#Subplots\n",
    "fig, ax = plt.subplots(figsize=(15, 8))\n",
    "def plot_bar(some_date):\n",
    "    df2 = CovPopulationFinalClean[CovPopulationFinalClean['Date'].eq(some_date)]\n",
    "    ax.clear()\n",
    "    # Only take Confirmed column in descending order\n",
    "    df3 = df2.sort_values(by = 'Cases Per Million', ascending = False)\n",
    "    # Select the top 10  countries having cases per million population \n",
    "    df4 = df3[['Country/Region','Cases Per Million']].head(10)\n",
    "    # To slow down the animation\n",
    "    sleep(4)  \n",
    "    # ax.barh() makes a horizontal bar plot.\n",
    "    for i, (value, name) in enumerate(zip(df4['Cases Per Million'], df4['Country/Region'])):\n",
    "        ax.text(value, i,     name,            ha='right')  # Tokyo: name\n",
    "        ax.text(value, i,     value,           ha='left')   # 38194.2: value\n",
    "    # Coloring and transforming data    \n",
    "    ax.text(1.2, 0.6, some_date, transform=ax.transAxes, color='#777777', size=25, ha='right', weight=800)\n",
    "    ax.text(0, 1.06, 'Population Per Million', transform=ax.transAxes, size=16, color='#777777')\n",
    "    ax.xaxis.set_major_formatter(ticker.StrMethodFormatter('{x:,.0f}'))\n",
    "    ax.xaxis.set_ticks_position('top')\n",
    "    ax.tick_params(axis='x', colors='#777777', labelsize=12)\n",
    "    ax.set_yticks([])\n",
    "    ax.margins(0, 0.01)\n",
    "    ax.grid(which='major', axis='x', linestyle='-')\n",
    "    ax.set_axisbelow(True)\n",
    "    # Adding header to bar chart\n",
    "    ax.text(0, 1.12, 'Top 10 Counties With COVID-19 Cases Per Million',\n",
    "            transform=ax.transAxes, size=24, weight=600, ha='left')\n",
    "    plt.box(False)\n",
    "    return ax.barh(df4['Country/Region'], df4['Cases Per Million'], color= list_colors)\n",
    "\n",
    "# using FuncAnimation to show data till most recent days\n",
    "my_anim = animation.FuncAnimation(fig = fig, func = plot_bar,\n",
    "                    frames= CovDatFinals,interval = 1000)\n",
    "my_anim\n"
   ]
  },
  {
   "cell_type": "code",
   "execution_count": 62,
   "metadata": {},
   "outputs": [
    {
     "data": {
      "image/png": "[encoded data removed]",
      "text/plain": [
       "<Figure size 432x288 with 1 Axes>"
      ]
     },
     "metadata": {
      "needs_background": "light"
     },
     "output_type": "display_data"
    }
   ],
   "source": [
    "#path_mp4 = r'data\\CovidCases.mp4' \n",
    "path_mp4 = r'data\\CovidCases.mp4' \n",
    "my_anim.save(filename = path_mp4, writer = 'ffmpeg',\n",
    "             fps=10,\n",
    "             extra_args= ['-vcodec', 'libx264', '-pix_fmt', 'yuv420p'])\n",
    "\n"
   ]
  },
  {
   "cell_type": "code",
   "execution_count": 21,
   "metadata": {},
   "outputs": [
    {
     "data": {
      "image/jpeg": "[encoded data removed]",
      "text/html": [
       "\n",
       "        <iframe\n",
       "            width=\"600\"\n",
       "            height=\"500\"\n",
       "            src=\"https://www.youtube.com/embed/2BAj7PpHFgU\"\n",
       "            frameborder=\"0\"\n",
       "            allowfullscreen\n",
       "        ></iframe>\n",
       "        "
      ],
      "text/plain": [
       "<IPython.lib.display.YouTubeVideo at 0x1b983964cc8>"
      ]
     },
     "execution_count": 21,
     "metadata": {},
     "output_type": "execute_result"
    }
   ],
   "source": [
    "from IPython.display import Audio, Image, YouTubeVideo\n",
    "# Added the video in youtube\n",
    "YouTubeVideo(id='2BAj7PpHFgU',width =600,height =500)"
   ]
  },
  {
   "cell_type": "markdown",
   "metadata": {},
   "source": [
    "__Interpretation:-__ From the mentioned video, we can see that Qatar has most cases per million."
   ]
  },
  {
   "cell_type": "markdown",
   "metadata": {},
   "source": [
    "## A Predictive Model\n",
    "\n",
    "It is well understood that the spread of the virus follows an exponential pattern. This is because each infected person infects more than one new person on average, leading to exponential growth.  This is why the key to stopping the growth of the pandemic is to reduce the number of people infected by stopping contact and isolating infected poeple. \n",
    "\n",
    "An exponential curve has the equation $y = e^{mx}$. It can be converted to a linear relationship by taking the logarithm of each side: $log(y) = mx$.  This means that we can fit a linear regression model to the data as long as we take the log of the number of cases. \n",
    "\n",
    "Select a country with a clear exponential curve (for example, the US) and build a linear regression model to predict the log of the number of case.  Test how well the model fits the data. \n",
    "\n",
    "Now, select the data from China. This should show some divergence from the model since they have managed to slow the growth of cases.  Can you show from the model that China's data does not show exponential growth?   If China had not acted to stop the virus, how many cases would there be now according to this simple model? \n",
    "\n",
    "Can you use this metric to identify countries where the virus is under control and those where it is not? "
   ]
  },
  {
   "cell_type": "code",
   "execution_count": 20,
   "metadata": {},
   "outputs": [],
   "source": [
    "#Using libraries to predict the model\n",
    "import sklearn\n",
    "from sklearn.linear_model import LinearRegression\n",
    "from sklearn.preprocessing import scale\n",
    "linear_model = LinearRegression(normalize = True,fit_intercept=True)\n",
    "from sklearn.model_selection import train_test_split"
   ]
  },
  {
   "cell_type": "code",
   "execution_count": 22,
   "metadata": {},
   "outputs": [
    {
     "data": {
      "text/plain": [
       "Text(0.5, 1.0, 'COVID-19 trend')"
      ]
     },
     "execution_count": 22,
     "metadata": {},
     "output_type": "execute_result"
    },
    {
     "data": {
      "image/png": "[encoded data removed]",
      "text/plain": [
       "<Figure size 720x648 with 1 Axes>"
      ]
     },
     "metadata": {},
     "output_type": "display_data"
    }
   ],
   "source": [
    "# Predicting cases for US\n",
    "US = CaltimeSeries('US')\n",
    "plt.plot(US['Days since 100th case'],US['Know Cases'],label = 'US')\n",
    "plt.xlabel(\"Days since 2020-01-22\")\n",
    "plt.ylabel(\"No of Cases\")\n",
    "plt.legend()\n",
    "plt.title('COVID-19 trend')\n"
   ]
  },
  {
   "cell_type": "code",
   "execution_count": 24,
   "metadata": {},
   "outputs": [
    {
     "name": "stdout",
     "output_type": "stream",
     "text": [
      "For US, the intercept is: 12.155270414729243 and the coefficient is: [0.12209323]\n"
     ]
    }
   ],
   "source": [
    "# Defining X and Y coordinates\n",
    "X = US[['Days since 100th case']]\n",
    "y = US['Know Cases']\n",
    "\n",
    "# taking logarithmic value\n",
    "log_y =  np.log(US['Know Cases'])\n",
    "log_y\n",
    "\n",
    "# Applying linear regression\n",
    "LinReg = LinearRegression()\n",
    "LinReg.fit(X,log_y)\n",
    "print(\"For US, the intercept is:\",LinReg.intercept_,'and the coefficient is:',LinReg.coef_)\n"
   ]
  },
  {
   "cell_type": "markdown",
   "metadata": {},
   "source": [
    "__Interpretation:-__ We see a linear co-efficient of 0.122 and intercept of 12.15"
   ]
  },
  {
   "cell_type": "code",
   "execution_count": 26,
   "metadata": {},
   "outputs": [
    {
     "data": {
      "text/plain": [
       "array([12.15527041, 14.59713509, 17.03899976])"
      ]
     },
     "execution_count": 26,
     "metadata": {},
     "output_type": "execute_result"
    }
   ],
   "source": [
    "# Predicting values\n",
    "y_pred = LinReg.predict(X)\n",
    "y_pred"
   ]
  },
  {
   "cell_type": "code",
   "execution_count": 27,
   "metadata": {},
   "outputs": [
    {
     "data": {
      "text/plain": [
       "Text(0.5, 1.0, 'COVID-19 trend for US')"
      ]
     },
     "execution_count": 27,
     "metadata": {},
     "output_type": "execute_result"
    },
    {
     "data": {
      "image/png": "[encoded data removed]",
      "text/plain": [
       "<Figure size 720x648 with 1 Axes>"
      ]
     },
     "metadata": {},
     "output_type": "display_data"
    }
   ],
   "source": [
    "plt.plot(log_y, label = \"Actual Value\")\n",
    "plt.plot(y_pred, label = \"Predicted Value\")\n",
    "plt.legend()\n",
    "plt.xlabel(\"Days since 2020-01-22\")\n",
    "plt.ylabel(\"No of Cases\")\n",
    "plt.title('COVID-19 trend for US')\n"
   ]
  },
  {
   "cell_type": "code",
   "execution_count": 28,
   "metadata": {},
   "outputs": [
    {
     "name": "stdout",
     "output_type": "stream",
     "text": [
      "r squared of the Prediction:(US) 0.9199136023765467\n"
     ]
    }
   ],
   "source": [
    "print('r squared of the Prediction:(US)',LinReg.score(X,log_y))"
   ]
  },
  {
   "cell_type": "markdown",
   "metadata": {},
   "source": [
    "__Interpretation:-__ We can see that actual and predicted value for US matches closely with each other. The linear regression model is performing well and r square value is close to 1. The model fits well in predicting the data for US."
   ]
  },
  {
   "cell_type": "markdown",
   "metadata": {},
   "source": [
    "select the data from China. This should show some divergence from the model since they have managed to slow the growth of cases.  Can you show from the model that China's data does not show exponential growth?   If China had not acted to stop the virus, how many cases would there be now according to this simple model?"
   ]
  },
  {
   "cell_type": "code",
   "execution_count": 29,
   "metadata": {},
   "outputs": [
    {
     "data": {
      "text/plain": [
       "<matplotlib.legend.Legend at 0x12b11105588>"
      ]
     },
     "execution_count": 29,
     "metadata": {},
     "output_type": "execute_result"
    },
    {
     "data": {
      "image/png": "[encoded data removed]",
      "text/plain": [
       "<Figure size 720x648 with 1 Axes>"
      ]
     },
     "metadata": {},
     "output_type": "display_data"
    }
   ],
   "source": [
    "China = CaltimeSeries('China')\n",
    "China\n",
    "#dfUS1 = dfUS[dfUS['Days']>50]\n",
    "plt.plot(China['Days since 100th case'],China['Know Cases'],label = 'China')\n",
    "plt.xlabel(\"Days since 2020-01-22\")\n",
    "plt.ylabel(\"No of Cases\")\n",
    "plt.title('COVID-19 trend for China')\n",
    "plt.legend()"
   ]
  },
  {
   "cell_type": "code",
   "execution_count": 30,
   "metadata": {},
   "outputs": [
    {
     "name": "stdout",
     "output_type": "stream",
     "text": [
      "For China Intercept is: 753408.4  and Coefficient is: [14599.48]\n"
     ]
    }
   ],
   "source": [
    "# Defining X and Y Coordinate\n",
    "X = China[['Days since 100th case']]\n",
    "y = China['Know Cases']\n",
    "LinReg = LinearRegression()\n",
    "LinReg.fit(X,y)\n",
    "print('For China Intercept is:',LinReg.intercept_,' and Coefficient is:',LinReg.coef_)"
   ]
  },
  {
   "cell_type": "code",
   "execution_count": 31,
   "metadata": {},
   "outputs": [
    {
     "data": {
      "text/plain": [
       "array([ 753408.4, 1045398. , 1337387.6, 1629377.2, 1921366.8])"
      ]
     },
     "execution_count": 31,
     "metadata": {},
     "output_type": "execute_result"
    }
   ],
   "source": [
    "y_pred1 = LinReg.predict(X)\n",
    "y_pred1"
   ]
  },
  {
   "cell_type": "code",
   "execution_count": 32,
   "metadata": {},
   "outputs": [
    {
     "data": {
      "text/plain": [
       "Text(0.5, 1.0, 'COVID-19 trend for China')"
      ]
     },
     "execution_count": 32,
     "metadata": {},
     "output_type": "execute_result"
    },
    {
     "data": {
      "image/png": "[encoded data removed]",
      "text/plain": [
       "<Figure size 720x648 with 1 Axes>"
      ]
     },
     "metadata": {},
     "output_type": "display_data"
    }
   ],
   "source": [
    "plt.plot(y, label = \"Actual Value\")\n",
    "plt.plot(y_pred1, label = \"Predicted Value\")\n",
    "plt.legend()\n",
    "plt.title('COVID-19 trend for China')\n"
   ]
  },
  {
   "cell_type": "code",
   "execution_count": 33,
   "metadata": {},
   "outputs": [
    {
     "name": "stdout",
     "output_type": "stream",
     "text": [
      "r squared of the Prediction(China) 0.6423126964088759\n"
     ]
    }
   ],
   "source": [
    "print('r squared of the Prediction(China)',LinReg.score(X,y))"
   ]
  },
  {
   "cell_type": "markdown",
   "metadata": {},
   "source": [
    "__Interpretation:-__ The linear regression model is not performing well and r square value is 64%. The model does not fit well in predicting the data for China."
   ]
  },
  {
   "cell_type": "code",
   "execution_count": 34,
   "metadata": {},
   "outputs": [
    {
     "data": {
      "text/plain": [
       "Text(0.5, 1.0, 'COVID-19 trend')"
      ]
     },
     "execution_count": 34,
     "metadata": {},
     "output_type": "execute_result"
    },
    {
     "data": {
      "image/png": "[encoded data removed]",
      "text/plain": [
       "<Figure size 720x648 with 1 Axes>"
      ]
     },
     "metadata": {},
     "output_type": "display_data"
    }
   ],
   "source": [
    "China = CaltimeSeries('China')\n",
    "\n",
    "# If China had not acted to stop the virus, how many cases would there be now according to this simple model?\n",
    "dfChina1 = China[China['Days since 100th case']<=40]\n",
    "dfChina1\n",
    "plt.plot(dfChina1['Days since 100th case'],dfChina1['Know Cases'],label = 'China')\n",
    "plt.xlabel(\"Days since 2020-01-22\")\n",
    "plt.ylabel(\"No of Cases\")\n",
    "plt.legend()\n",
    "plt.title('COVID-19 trend')\n"
   ]
  },
  {
   "cell_type": "code",
   "execution_count": 35,
   "metadata": {},
   "outputs": [
    {
     "name": "stdout",
     "output_type": "stream",
     "text": [
      "Intercept is: 474804.66666666674 and Coefficient is: [32398.65]\n"
     ]
    }
   ],
   "source": [
    "X = dfChina1[['Days since 100th case']]\n",
    "y = dfChina1['Know Cases']\n",
    "LinReg = LinearRegression()\n",
    "LinReg.fit(X,y)\n",
    "print('Intercept is:',LinReg.intercept_,'and Coefficient is:',LinReg.coef_)"
   ]
  },
  {
   "cell_type": "code",
   "execution_count": 36,
   "metadata": {},
   "outputs": [
    {
     "data": {
      "text/plain": [
       "array([ 474804.66666667, 1122777.66666667, 1770750.66666667])"
      ]
     },
     "execution_count": 36,
     "metadata": {},
     "output_type": "execute_result"
    }
   ],
   "source": [
    "y_pred1 = LinReg.predict(X)\n",
    "y_pred1"
   ]
  },
  {
   "cell_type": "markdown",
   "metadata": {},
   "source": [
    "If China had not acted to stop the virus,there would be above mentioned cases till now."
   ]
  },
  {
   "cell_type": "code",
   "execution_count": 37,
   "metadata": {},
   "outputs": [
    {
     "name": "stdout",
     "output_type": "stream",
     "text": [
      "r squared of the Prediction: 0.8555532718783158\n"
     ]
    }
   ],
   "source": [
    "print('r squared of the Prediction:',LinReg.score(X,y))"
   ]
  },
  {
   "cell_type": "markdown",
   "metadata": {},
   "source": [
    "__Interpretation__:- The r squared value show 85% for the inital 40 days of virus spread in china. The model perform well in predicting the cases if china had not acted to stop the spread of the virus. "
   ]
  },
  {
   "cell_type": "code",
   "execution_count": 38,
   "metadata": {},
   "outputs": [],
   "source": [
    "# Calculating logarithmic time series \n",
    "def Callogrithmictimeseries(countryname):\n",
    "    li = []\n",
    "    GroupedData_Clean1 =  GroupedData_Clean.melt(id_vars = ['Country/Region'])\n",
    "    GroupedData_Clean2 = GroupedData_Clean1[GroupedData_Clean1[\"Country/Region\"] == countryname]\n",
    "    GroupedData_Clean3 = GroupedData_Clean2[GroupedData_Clean2[\"value\"]>100]\n",
    "    GroupedData_Clean3['variable'] = pd.to_datetime(GroupedData_Clean3.variable)\n",
    "    a_df=np.unique(GroupedData_Clean3['variable'], axis=0)\n",
    "    UniqVariable= pd.DataFrame(a_df)\n",
    "    UniqVariable.index += 1\n",
    "    UniqVariable['New_ID'] = UniqVariable.index\n",
    "    UniqVariable\n",
    "    UniqVariable20days = UniqVariable.groupby([pd.Grouper(key=0, freq='20D')])['New_ID'].min().reset_index().sort_values(0)\n",
    "    UniqVariable20days\n",
    "    CountryGrp = GroupedData_Clean3.groupby(['Country/Region', pd.Grouper(key='variable', freq='20D')])[['value','Country/Region']].sum().reset_index().sort_values('variable')\n",
    "    CountryGrp\n",
    "    MergeFinal= pd.merge(CountryGrp, UniqVariable20days, how='left', left_on='variable', right_on=0)\n",
    "    MergeFinal1 = MergeFinal.groupby(['Country/Region'])['variable'].min().to_frame()\n",
    "    MergeFinal2 = MergeFinal1.reset_index()\n",
    "    MergeFinal\n",
    "    MergeFinal['Log Of Known Cases'] =  np.log(MergeFinal['value'])\n",
    "    MergeFinal\n",
    "    dt_FinalCOVID = MergeFinal[MergeFinal[0] > '2020-04-12' ].index\n",
    "    MergeFinal.drop(dt_FinalCOVID , inplace=True)\n",
    "    MergeFinal\n",
    "    p1 = []\n",
    "    for Country,variable in zip(MergeFinal2['Country/Region'],MergeFinal2['variable']):\n",
    "        p1.append(Country)\n",
    "        p1.append(variable)\n",
    "        p1.append(0)\n",
    "        p1.append(0)\n",
    "        p1.append(0)\n",
    "        p1.append(0)\n",
    "    p2 = pd.DataFrame(p1)\n",
    "    p3 = p2.T\n",
    "    p4 =p3.reset_index()\n",
    "    p5 =pd.DataFrame(p4)\n",
    "    p6  =p5[[0,1,2,3,4,5]]\n",
    "    p6.columns = ['Country/Region','variable','value',0,'New_ID','Log Of Known Cases']\n",
    "    p7 = p6\n",
    "    p7\n",
    "    append = MergeFinal.append(p7)\n",
    "    append\n",
    "    FinalMerge1 = append[[\"Country/Region\",\"variable\",\"value\",\"New_ID\",'Log Of Known Cases']]\n",
    "    FinalMerge1.columns = [\"Country/Region\",\"Date\",\"Known Cases\",\"Days since 100th case\",'Log Of Known Cases']\n",
    "    dffinalcases = FinalMerge1.sort_values('Known Cases')\n",
    "    dffinalcases1 = dffinalcases.reset_index()\n",
    "    dffinalcases1\n",
    "    li.append(dffinalcases1)\n",
    "    frame = pd.concat(li, axis=0, ignore_index=True)\n",
    "    return frame"
   ]
  },
  {
   "cell_type": "code",
   "execution_count": 39,
   "metadata": {},
   "outputs": [
    {
     "data": {
      "text/html": [
       "<div>\n",
       "<style scoped>\n",
       "    .dataframe tbody tr th:only-of-type {\n",
       "        vertical-align: middle;\n",
       "    }\n",
       "\n",
       "    .dataframe tbody tr th {\n",
       "        vertical-align: top;\n",
       "    }\n",
       "\n",
       "    .dataframe thead th {\n",
       "        text-align: right;\n",
       "    }\n",
       "</style>\n",
       "<table border=\"1\" class=\"dataframe\">\n",
       "  <thead>\n",
       "    <tr style=\"text-align: right;\">\n",
       "      <th></th>\n",
       "      <th>level_0</th>\n",
       "      <th>index</th>\n",
       "      <th>Country/Region</th>\n",
       "      <th>Date</th>\n",
       "      <th>Known Cases</th>\n",
       "      <th>Days since 100th case</th>\n",
       "      <th>Log Of Known Cases</th>\n",
       "    </tr>\n",
       "  </thead>\n",
       "  <tbody>\n",
       "    <tr>\n",
       "      <th>0</th>\n",
       "      <td>0</td>\n",
       "      <td>0</td>\n",
       "      <td>US</td>\n",
       "      <td>2020-03-03</td>\n",
       "      <td>0</td>\n",
       "      <td>0</td>\n",
       "      <td>0</td>\n",
       "    </tr>\n",
       "    <tr>\n",
       "      <th>1</th>\n",
       "      <td>1</td>\n",
       "      <td>0</td>\n",
       "      <td>US</td>\n",
       "      <td>2020-03-03</td>\n",
       "      <td>125404</td>\n",
       "      <td>1</td>\n",
       "      <td>11.7393</td>\n",
       "    </tr>\n",
       "    <tr>\n",
       "      <th>2</th>\n",
       "      <td>2</td>\n",
       "      <td>1</td>\n",
       "      <td>US</td>\n",
       "      <td>2020-03-23</td>\n",
       "      <td>5020722</td>\n",
       "      <td>21</td>\n",
       "      <td>15.4291</td>\n",
       "    </tr>\n",
       "    <tr>\n",
       "      <th>3</th>\n",
       "      <td>3</td>\n",
       "      <td>2</td>\n",
       "      <td>US</td>\n",
       "      <td>2020-04-12</td>\n",
       "      <td>16568687</td>\n",
       "      <td>41</td>\n",
       "      <td>16.623</td>\n",
       "    </tr>\n",
       "    <tr>\n",
       "      <th>4</th>\n",
       "      <td>0</td>\n",
       "      <td>0</td>\n",
       "      <td>Australia</td>\n",
       "      <td>2020-03-10</td>\n",
       "      <td>0</td>\n",
       "      <td>0</td>\n",
       "      <td>0</td>\n",
       "    </tr>\n",
       "    <tr>\n",
       "      <th>5</th>\n",
       "      <td>1</td>\n",
       "      <td>0</td>\n",
       "      <td>Australia</td>\n",
       "      <td>2020-03-10</td>\n",
       "      <td>26266</td>\n",
       "      <td>1</td>\n",
       "      <td>10.176</td>\n",
       "    </tr>\n",
       "    <tr>\n",
       "      <th>6</th>\n",
       "      <td>2</td>\n",
       "      <td>1</td>\n",
       "      <td>Australia</td>\n",
       "      <td>2020-03-30</td>\n",
       "      <td>116866</td>\n",
       "      <td>21</td>\n",
       "      <td>11.6688</td>\n",
       "    </tr>\n",
       "    <tr>\n",
       "      <th>7</th>\n",
       "      <td>0</td>\n",
       "      <td>0</td>\n",
       "      <td>China</td>\n",
       "      <td>2020-01-22</td>\n",
       "      <td>0</td>\n",
       "      <td>0</td>\n",
       "      <td>0</td>\n",
       "    </tr>\n",
       "    <tr>\n",
       "      <th>8</th>\n",
       "      <td>1</td>\n",
       "      <td>0</td>\n",
       "      <td>China</td>\n",
       "      <td>2020-01-22</td>\n",
       "      <td>321086</td>\n",
       "      <td>1</td>\n",
       "      <td>12.6795</td>\n",
       "    </tr>\n",
       "    <tr>\n",
       "      <th>9</th>\n",
       "      <td>2</td>\n",
       "      <td>1</td>\n",
       "      <td>China</td>\n",
       "      <td>2020-02-11</td>\n",
       "      <td>1430215</td>\n",
       "      <td>21</td>\n",
       "      <td>14.1733</td>\n",
       "    </tr>\n",
       "    <tr>\n",
       "      <th>10</th>\n",
       "      <td>3</td>\n",
       "      <td>2</td>\n",
       "      <td>China</td>\n",
       "      <td>2020-03-02</td>\n",
       "      <td>1617032</td>\n",
       "      <td>41</td>\n",
       "      <td>14.2961</td>\n",
       "    </tr>\n",
       "    <tr>\n",
       "      <th>11</th>\n",
       "      <td>4</td>\n",
       "      <td>3</td>\n",
       "      <td>China</td>\n",
       "      <td>2020-03-22</td>\n",
       "      <td>1644927</td>\n",
       "      <td>61</td>\n",
       "      <td>14.3132</td>\n",
       "    </tr>\n",
       "    <tr>\n",
       "      <th>12</th>\n",
       "      <td>5</td>\n",
       "      <td>4</td>\n",
       "      <td>China</td>\n",
       "      <td>2020-04-11</td>\n",
       "      <td>1673678</td>\n",
       "      <td>81</td>\n",
       "      <td>14.3305</td>\n",
       "    </tr>\n",
       "    <tr>\n",
       "      <th>13</th>\n",
       "      <td>0</td>\n",
       "      <td>0</td>\n",
       "      <td>Italy</td>\n",
       "      <td>2020-02-23</td>\n",
       "      <td>0</td>\n",
       "      <td>0</td>\n",
       "      <td>0</td>\n",
       "    </tr>\n",
       "    <tr>\n",
       "      <th>14</th>\n",
       "      <td>1</td>\n",
       "      <td>0</td>\n",
       "      <td>Italy</td>\n",
       "      <td>2020-02-23</td>\n",
       "      <td>99459</td>\n",
       "      <td>1</td>\n",
       "      <td>11.5075</td>\n",
       "    </tr>\n",
       "    <tr>\n",
       "      <th>15</th>\n",
       "      <td>2</td>\n",
       "      <td>1</td>\n",
       "      <td>Italy</td>\n",
       "      <td>2020-03-14</td>\n",
       "      <td>1339959</td>\n",
       "      <td>21</td>\n",
       "      <td>14.1081</td>\n",
       "    </tr>\n",
       "    <tr>\n",
       "      <th>16</th>\n",
       "      <td>3</td>\n",
       "      <td>2</td>\n",
       "      <td>Italy</td>\n",
       "      <td>2020-04-03</td>\n",
       "      <td>3116742</td>\n",
       "      <td>41</td>\n",
       "      <td>14.9523</td>\n",
       "    </tr>\n",
       "    <tr>\n",
       "      <th>17</th>\n",
       "      <td>0</td>\n",
       "      <td>0</td>\n",
       "      <td>United Kingdom</td>\n",
       "      <td>2020-03-05</td>\n",
       "      <td>0</td>\n",
       "      <td>0</td>\n",
       "      <td>0</td>\n",
       "    </tr>\n",
       "    <tr>\n",
       "      <th>18</th>\n",
       "      <td>1</td>\n",
       "      <td>0</td>\n",
       "      <td>United Kingdom</td>\n",
       "      <td>2020-03-05</td>\n",
       "      <td>44061</td>\n",
       "      <td>1</td>\n",
       "      <td>10.6933</td>\n",
       "    </tr>\n",
       "    <tr>\n",
       "      <th>19</th>\n",
       "      <td>2</td>\n",
       "      <td>1</td>\n",
       "      <td>United Kingdom</td>\n",
       "      <td>2020-03-25</td>\n",
       "      <td>879692</td>\n",
       "      <td>21</td>\n",
       "      <td>13.6873</td>\n",
       "    </tr>\n",
       "    <tr>\n",
       "      <th>20</th>\n",
       "      <td>0</td>\n",
       "      <td>0</td>\n",
       "      <td>Taiwan*</td>\n",
       "      <td>2020-03-19</td>\n",
       "      <td>0</td>\n",
       "      <td>0</td>\n",
       "      <td>0</td>\n",
       "    </tr>\n",
       "    <tr>\n",
       "      <th>21</th>\n",
       "      <td>1</td>\n",
       "      <td>0</td>\n",
       "      <td>Taiwan*</td>\n",
       "      <td>2020-03-19</td>\n",
       "      <td>5421</td>\n",
       "      <td>1</td>\n",
       "      <td>8.59804</td>\n",
       "    </tr>\n",
       "    <tr>\n",
       "      <th>22</th>\n",
       "      <td>2</td>\n",
       "      <td>1</td>\n",
       "      <td>Taiwan*</td>\n",
       "      <td>2020-04-08</td>\n",
       "      <td>8118</td>\n",
       "      <td>21</td>\n",
       "      <td>9.00184</td>\n",
       "    </tr>\n",
       "  </tbody>\n",
       "</table>\n",
       "</div>"
      ],
      "text/plain": [
       "    level_0  index  Country/Region       Date Known Cases  \\\n",
       "0         0      0              US 2020-03-03           0   \n",
       "1         1      0              US 2020-03-03      125404   \n",
       "2         2      1              US 2020-03-23     5020722   \n",
       "3         3      2              US 2020-04-12    16568687   \n",
       "4         0      0       Australia 2020-03-10           0   \n",
       "5         1      0       Australia 2020-03-10       26266   \n",
       "6         2      1       Australia 2020-03-30      116866   \n",
       "7         0      0           China 2020-01-22           0   \n",
       "8         1      0           China 2020-01-22      321086   \n",
       "9         2      1           China 2020-02-11     1430215   \n",
       "10        3      2           China 2020-03-02     1617032   \n",
       "11        4      3           China 2020-03-22     1644927   \n",
       "12        5      4           China 2020-04-11     1673678   \n",
       "13        0      0           Italy 2020-02-23           0   \n",
       "14        1      0           Italy 2020-02-23       99459   \n",
       "15        2      1           Italy 2020-03-14     1339959   \n",
       "16        3      2           Italy 2020-04-03     3116742   \n",
       "17        0      0  United Kingdom 2020-03-05           0   \n",
       "18        1      0  United Kingdom 2020-03-05       44061   \n",
       "19        2      1  United Kingdom 2020-03-25      879692   \n",
       "20        0      0         Taiwan* 2020-03-19           0   \n",
       "21        1      0         Taiwan* 2020-03-19        5421   \n",
       "22        2      1         Taiwan* 2020-04-08        8118   \n",
       "\n",
       "   Days since 100th case Log Of Known Cases  \n",
       "0                      0                  0  \n",
       "1                      1            11.7393  \n",
       "2                     21            15.4291  \n",
       "3                     41             16.623  \n",
       "4                      0                  0  \n",
       "5                      1             10.176  \n",
       "6                     21            11.6688  \n",
       "7                      0                  0  \n",
       "8                      1            12.6795  \n",
       "9                     21            14.1733  \n",
       "10                    41            14.2961  \n",
       "11                    61            14.3132  \n",
       "12                    81            14.3305  \n",
       "13                     0                  0  \n",
       "14                     1            11.5075  \n",
       "15                    21            14.1081  \n",
       "16                    41            14.9523  \n",
       "17                     0                  0  \n",
       "18                     1            10.6933  \n",
       "19                    21            13.6873  \n",
       "20                     0                  0  \n",
       "21                     1            8.59804  \n",
       "22                    21            9.00184  "
      ]
     },
     "execution_count": 39,
     "metadata": {},
     "output_type": "execute_result"
    }
   ],
   "source": [
    "USdf1 = Callogrithmictimeseries('US')\n",
    "USdf1\n",
    "AUdf2 = Callogrithmictimeseries('Australia')\n",
    "AUdf2\n",
    "ITdf3 = Callogrithmictimeseries('Italy')\n",
    "ITdf3\n",
    "CHdf4 = Callogrithmictimeseries('China')\n",
    "UKdf5 = Callogrithmictimeseries('United Kingdom')\n",
    "TAdf6 = Callogrithmictimeseries('Taiwan*')\n",
    "resultFI = USdf1.append([AUdf2,CHdf4,ITdf3,UKdf5,TAdf6])\n",
    "resultFI1 = resultFI.reset_index()\n",
    "resultFI1"
   ]
  },
  {
   "cell_type": "code",
   "execution_count": 40,
   "metadata": {},
   "outputs": [
    {
     "data": {
      "image/png": "[encoded data removed]",
      "text/plain": [
       "<Figure size 720x576 with 1 Axes>"
      ]
     },
     "metadata": {},
     "output_type": "display_data"
    }
   ],
   "source": [
    "# Taking maximum value to add label in the plot\n",
    "dfResult1 = resultFI.groupby(['Country/Region'], sort=False)[['Log Of Known Cases','Days since 100th case']].max()\n",
    "dfResult2 = dfResult1.reset_index()\n",
    "dfResult2\n",
    "\n",
    "# Using subplots\n",
    "fig, ax = plt.subplots(figsize=(10,8))\n",
    "ax.clear()\n",
    "#line, = ax.plot(x, y)\n",
    "ax.plot( 'Days since 100th case', 'Log Of Known Cases', data=USdf1, marker='.', markerfacecolor='blue', markersize=8, color='blue', linewidth=2,label=\"US\")\n",
    "ax.plot( 'Days since 100th case', 'Log Of Known Cases', data=AUdf2, marker='.', color='red', markersize=8, linewidth=2,label=\"Australia\")\n",
    "ax.plot( 'Days since 100th case', 'Log Of Known Cases', data=ITdf3, marker='.', color='#ffb3ff', markersize=8,linewidth=2,label=\"Italy\")\n",
    "ax.plot( 'Days since 100th case', 'Log Of Known Cases', data=CHdf4, marker='.', color='green',markersize=8, linewidth=2,label=\"China\")\n",
    "ax.plot( 'Days since 100th case', 'Log Of Known Cases', data=UKdf5, marker='.', color='#eafb50',markersize=8, linewidth=2,label=\"United Kingdom\")\n",
    "ax.plot( 'Days since 100th case', 'Log Of Known Cases', data=TAdf6, marker='.', color='#f7bb5f', markersize=8,linewidth=2,label=\"Taiwan\")\n",
    "\n",
    "colors = {'Australia':'ro', 'China':'go', 'Italy':'o', 'US':'bo','United Kingdom':'yo','Taiwan*':'yo'}\n",
    "\n",
    "for Country,Cases,Days in  zip(dfResult2['Country/Region'], dfResult2['Log Of Known Cases'], dfResult2['Days since 100th case']):\n",
    "        ymax = Cases         \n",
    "        xmax = Days\n",
    "        ax.annotate(Country, xy=(xmax, ymax+0.2), xytext=(xmax, ymax+0.2))\n",
    "        ax.plot(xmax,ymax,colors[Country])\n",
    "plt.xlabel('Days since 100th case')\n",
    "plt.ylabel('Logarithmic Scale of  Known Cases since 100th case')\n",
    "plt.title('COVID-19 trend')\n",
    "plt.show()"
   ]
  },
  {
   "cell_type": "markdown",
   "metadata": {},
   "source": [
    "__Interpretation__:-By using the logarithmic plot, we can identify that for China, Australia, Taiwan, the virus is under control and for US and Italy, we see an exponential increase in the number of confirmed cases."
   ]
  }
 ],
 "metadata": {
  "kernelspec": {
   "display_name": "Python 3",
   "language": "python",
   "name": "python3"
  },
  "language_info": {
   "codemirror_mode": {
    "name": "ipython",
    "version": 3
   },
   "file_extension": ".py",
   "mimetype": "text/x-python",
   "name": "python",
   "nbconvert_exporter": "python",
   "pygments_lexer": "ipython3",
   "version": "3.7.4"
  }
 },
 "nbformat": 4,
 "nbformat_minor": 2
}
